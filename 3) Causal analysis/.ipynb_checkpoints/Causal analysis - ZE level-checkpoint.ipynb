{
 "cells": [
  {
   "cell_type": "markdown",
   "metadata": {},
   "source": [
    "The purpose of this notebook is to expose the causal structure underlying territorial polarisation in 1980-2020 France through canonical regression methods. The causal models we will discover will help discriminating between numerous qualitative assesments of this dynamics.\n",
    "\n",
    "It is essentially based on the statsmodels library (Seabold, S., & Perktold, J. (2010). Statsmodels: Econometric and Statistical Modeling with Python. Proceedings of the 9th Python in Science Conference, 2010.).\n",
    "\n",
    "In addition, we adapted the SESHAT regression methodology (Turchin, P. (2018). Fitting Dynamic Regression Models to Seshat Data. 35.), which was designed to handle both within- and between-areas interactions in cultural evolution, to adress similar dynamics in economic geography."
   ]
  },
  {
   "cell_type": "code",
   "execution_count": 1,
   "metadata": {},
   "outputs": [],
   "source": [
    "### Importing libraries ###\n",
    "\n",
    "import numpy as np\n",
    "import pandas as pd\n",
    "import json\n",
    "import matplotlib.pyplot as plt\n",
    "\n",
    "import geopandas as gpd\n",
    "import statsmodels.api as sm\n"
   ]
  },
  {
   "cell_type": "code",
   "execution_count": 2,
   "metadata": {},
   "outputs": [],
   "source": [
    "### Importing ZE1990 data ###\n",
    "\n",
    "area_ZE1990 = pd.read_json(\"../Data processing/Output/area_ZE1990.json\", typ=\"series\")\n",
    "dist_matrix_ZE1990 = pd.read_json(\"../Data processing/Output/dist_matrix_ZE1990.json\")\n",
    "\n",
    "dUC_timeseries_ZE1990 = pd.read_json(\"../Data processing/Output/dUC_timeseries_ZE1990.json\")\n",
    "d1_timeseries_ZE1990 = pd.read_json(\"../Data processing/Output/d1_timeseries_ZE1990.json\")\n",
    "med_timeseries_ZE1990 = pd.read_json(\"../Data processing/Output/med_timeseries_ZE1990.json\")\n",
    "d9_timeseries_ZE1990 = pd.read_json(\"../Data processing/Output/d9_timeseries_ZE1990.json\")\n",
    "moy_timeseries_ZE1990 = pd.read_json(\"../Data processing/Output/moy_timeseries_ZE1990.json\")\n",
    "intQ_timeseries_ZE1990 = pd.read_json(\"../Data processing/Output/intQ_timeseries_ZE1990.json\")\n"
   ]
  },
  {
   "cell_type": "code",
   "execution_count": 3,
   "metadata": {},
   "outputs": [],
   "source": [
    "### Importing ZE2010 data ###\n",
    "\n",
    "area_ZE2010 = pd.read_json(\"../Data processing/Output/area_ZE2010.json\", typ=\"series\")\n",
    "dist_matrix_ZE2010 = pd.read_json(\"../Data processing/Output/dist_matrix_ZE2010.json\")\n",
    "\n",
    "dUC_timeseries_ZE2010 = pd.read_json(\"../Data processing/Output/dUC_timeseries_ZE2010.json\")\n",
    "d1_timeseries_ZE2010 = pd.read_json(\"../Data processing/Output/d1_timeseries_ZE2010.json\")\n",
    "med_timeseries_ZE2010 = pd.read_json(\"../Data processing/Output/med_timeseries_ZE2010.json\")\n",
    "d9_timeseries_ZE2010 = pd.read_json(\"../Data processing/Output/d9_timeseries_ZE2010.json\")\n",
    "## moy_timeseries_ZE2010 = pd.read_json(\"../Data processing/Output/moy_timeseries_ZE2010.json\")\n",
    "intQ_timeseries_ZE2010 = pd.read_json(\"../Data processing/Output/intQ_timeseries_ZE2010.json\")\n",
    "\n",
    "tert_timeseries_ZE2010 = pd.read_json(\"../Data processing/Output/tert_timeseries_ZE2010.json\")"
   ]
  },
  {
   "cell_type": "code",
   "execution_count": 4,
   "metadata": {},
   "outputs": [],
   "source": [
    "### Importing other data\n",
    "\n",
    "foreigndebt_timeseries = pd.read_json(\"../Data processing/Output/foreigndebt_timeseries.json\")\n",
    "foreigncapitals_timeseries = pd.read_json(\"../Data processing/Output/foreigncapitals_timeseries.json\")"
   ]
  },
  {
   "cell_type": "markdown",
   "metadata": {},
   "source": [
    "We will below implement a global prediction of polarisation levels from financiarisation and productivity disparities"
   ]
  },
  {
   "cell_type": "code",
   "execution_count": 5,
   "metadata": {},
   "outputs": [],
   "source": [
    "### Extracting D1 and D9 index for ZE1990 and ZE2010 data\n",
    "\n",
    "def D1D9_polarisation(med_timeseries, bottom_timeseries, top_timeseries, D1D9_number):\n",
    "    top_index = med_timeseries.mean().nlargest(D1D9_number).index\n",
    "    bottom_index = med_timeseries.mean().nsmallest(D1D9_number).index\n",
    "    \n",
    "    D1D9_pol = np.log(top_timeseries[top_index]).mean(axis=1) -  np.log(bottom_timeseries[bottom_index]).mean(axis=1)\n",
    "    \n",
    "    return(D1D9_pol)\n",
    "\n",
    "D1D9_number = 25"
   ]
  },
  {
   "cell_type": "code",
   "execution_count": 54,
   "metadata": {},
   "outputs": [
    {
     "name": "stdout",
     "output_type": "stream",
     "text": [
      "                               GLS Regression Results                               \n",
      "====================================================================================\n",
      "Dep. Variable:     Polarisation des revenus   R-squared:                       0.627\n",
      "Model:                                  GLS   Adj. R-squared:                  0.541\n",
      "Method:                       Least Squares   F-statistic:                     7.280\n",
      "Date:                      Tue, 04 Aug 2020   Prob (F-statistic):            0.00412\n",
      "Time:                              14:41:40   Log-Likelihood:                 42.506\n",
      "No. Observations:                        17   AIC:                            -77.01\n",
      "Df Residuals:                            13   BIC:                            -73.68\n",
      "Df Model:                                 3                                         \n",
      "Covariance Type:                  nonrobust                                         \n",
      "==============================================================================================================\n",
      "                                                 coef    std err          t      P>|t|      [0.025      0.975]\n",
      "--------------------------------------------------------------------------------------------------------------\n",
      "Intercept                                      0.4679      0.428      1.093      0.294      -0.457       1.393\n",
      "Dette étrangère                               -0.2960      0.149     -1.986      0.069      -0.618       0.026\n",
      "Capitaux étrangers                             0.3279      0.417      0.786      0.446      -0.574       1.229\n",
      "Polarisation de la composition sectorielle    -0.5043      0.112     -4.512      0.001      -0.746      -0.263\n",
      "==============================================================================\n",
      "Omnibus:                        2.241   Durbin-Watson:                   1.866\n",
      "Prob(Omnibus):                  0.326   Jarque-Bera (JB):                0.589\n",
      "Skew:                           0.112   Prob(JB):                        0.745\n",
      "Kurtosis:                       3.884   Cond. No.                         211.\n",
      "==============================================================================\n",
      "\n",
      "Warnings:\n",
      "[1] Standard Errors assume that the covariance matrix of the errors is correctly specified.\n"
     ]
    }
   ],
   "source": [
    "### Regression on global polarisation (static)\n",
    "\n",
    "    ## Defining exog (with centered regressors)\n",
    "X = pd.DataFrame(index = range(1999, 2018))\n",
    "\n",
    "X[\"Intercept\"] = 1\n",
    "X[\"Dette étrangère\"] = np.log(foreigndebt_timeseries)\n",
    "X[\"Capitaux étrangers\"] = np.log(foreigncapitals_timeseries)\n",
    "X[\"Polarisation de la composition sectorielle\"] = D1D9_polarisation(med_timeseries_ZE2010, tert_timeseries_ZE2010, tert_timeseries_ZE2010, D1D9_number)\n",
    "\n",
    "X[X.columns[1:]] = X[X.columns[1:]]/X[X.columns[1:]].mean() ### centering all columns but intercept\n",
    "\n",
    "    ## Defining endog\n",
    "y = pd.DataFrame(index = range(2001,2018))\n",
    "\n",
    "y[\"Polarisation des revenus\"] = pd.concat([D1D9_polarisation(med_timeseries_ZE1990, d1_timeseries_ZE1990, d9_timeseries_ZE1990, D1D9_number), D1D9_polarisation(med_timeseries_ZE2010, d1_timeseries_ZE2010, d9_timeseries_ZE2010, D1D9_number)])\n",
    "y = y-y.mean()\n",
    "\n",
    "    ## Regressing\n",
    "results = sm.GLS(y, X.loc[y.index]).fit()\n",
    "\n",
    "print(results.summary())"
   ]
  },
  {
   "cell_type": "code",
   "execution_count": 55,
   "metadata": {},
   "outputs": [
    {
     "name": "stdout",
     "output_type": "stream",
     "text": [
      "                                            GLS Regression Results                                           \n",
      "=============================================================================================================\n",
      "Dep. Variable:     Variation annuelle de la polarisation des revenus   R-squared:                       0.461\n",
      "Model:                                                           GLS   Adj. R-squared:                  0.264\n",
      "Method:                                                Least Squares   F-statistic:                     2.348\n",
      "Date:                                               Tue, 04 Aug 2020   Prob (F-statistic):              0.118\n",
      "Time:                                                       14:41:44   Log-Likelihood:                 39.001\n",
      "No. Observations:                                                 16   AIC:                            -68.00\n",
      "Df Residuals:                                                     11   BIC:                            -64.14\n",
      "Df Model:                                                          4                                         \n",
      "Covariance Type:                                           nonrobust                                         \n",
      "==============================================================================================================\n",
      "                                                 coef    std err          t      P>|t|      [0.025      0.975]\n",
      "--------------------------------------------------------------------------------------------------------------\n",
      "Intercept                                      2.6818      0.966      2.776      0.018       0.555       4.808\n",
      "Dette étrangère                               -0.4592      0.196     -2.344      0.039      -0.891      -0.028\n",
      "Capitaux étrangers                            -0.1093      0.484     -0.226      0.826      -1.175       0.957\n",
      "Polarisation de la composition sectorielle    -0.5512      0.204     -2.698      0.021      -1.001      -0.102\n",
      "Polarisation des revenus                      -1.5611      0.688     -2.269      0.044      -3.076      -0.047\n",
      "==============================================================================\n",
      "Omnibus:                        0.844   Durbin-Watson:                   2.369\n",
      "Prob(Omnibus):                  0.656   Jarque-Bera (JB):                0.721\n",
      "Skew:                           0.205   Prob(JB):                        0.697\n",
      "Kurtosis:                       2.044   Cond. No.                         409.\n",
      "==============================================================================\n",
      "\n",
      "Warnings:\n",
      "[1] Standard Errors assume that the covariance matrix of the errors is correctly specified.\n"
     ]
    }
   ],
   "source": [
    "### Regression on global polarisation (dynamic)\n",
    "\n",
    "    ## Defining exog\n",
    "X = pd.DataFrame(index = range(1999, 2018))\n",
    "\n",
    "X[\"Intercept\"] = 1\n",
    "X[\"Dette étrangère\"] = np.log(foreigndebt_timeseries)\n",
    "X[\"Capitaux étrangers\"] = np.log(foreigncapitals_timeseries)\n",
    "X[\"Polarisation de la composition sectorielle\"] = D1D9_polarisation(med_timeseries_ZE2010, tert_timeseries_ZE2010, tert_timeseries_ZE2010, D1D9_number)\n",
    "X[\"Polarisation des revenus\"] = pd.concat([D1D9_polarisation(med_timeseries_ZE1990, d1_timeseries_ZE1990, d9_timeseries_ZE1990, D1D9_number), D1D9_polarisation(med_timeseries_ZE2010, d1_timeseries_ZE2010, d9_timeseries_ZE2010, D1D9_number)])\n",
    "\n",
    "X = X.dropna()\n",
    "X[X.columns[1:]] = X[X.columns[1:]]/X[X.columns[1:]].mean() ### centering all columns but intercept\n",
    "\n",
    "    ## Defining endog\n",
    "y = pd.DataFrame(index = range(1999,2018))\n",
    "\n",
    "y[\"Variation annuelle de la polarisation des revenus\"] = X[\"Polarisation de la composition sectorielle\"].apply(lambda x: np.log(x)).diff()\n",
    "y = y.shift(-1).dropna()\n",
    "y = y-y.mean()\n",
    "\n",
    "    ## Regressing\n",
    "results = sm.GLS(y, X.loc[y.index]).fit()\n",
    "\n",
    "print(results.summary())"
   ]
  },
  {
   "cell_type": "code",
   "execution_count": 11,
   "metadata": {},
   "outputs": [
    {
     "data": {
      "image/png": "[encoded data removed]",
      "text/plain": [
       "<Figure size 432x288 with 1 Axes>"
      ]
     },
     "metadata": {
      "needs_background": "light"
     },
     "output_type": "display_data"
    }
   ],
   "source": [
    "### Drawing data for static regression\n",
    "\n",
    "fig = plt.figure()\n",
    "\n",
    "X_plot = X/X.mean()\n",
    "\n",
    "plt.plot(X_plot[\"Dette étrangère\"], label=\"Montant de la dette d'État détenus par des capitaux étrangers\")\n",
    "plt.plot(X_plot[\"Capitaux étrangers\"], label=\"Montant des parts des entreprises du CAC40 détenus par des capitaux étrangers\")\n",
    "plt.plot(X_plot[\"Polarisation de la composition sectorielle\"], label=\"Polarisation entre la tertiarisation des \" + str(D1D9_number) + \" ZE les plus (resp. les moins) riches\")\n",
    "plt.plot(X_plot[\"Polarisation des revenus\"], label=\"Polarisation entre le d9 (resp. le d1) des \" + str(D1D9_number) + \" ZE les plus (resp. les moins) riches\")\n",
    "\n",
    "plt.legend()\n",
    "\n",
    "plt.savefig(\"Global regression variables.png\")\n",
    "plt.show()"
   ]
  },
  {
   "cell_type": "code",
   "execution_count": 9,
   "metadata": {},
   "outputs": [],
   "source": [
    "### Regression on local polarisation proxies\n",
    "\n"
   ]
  }
 ],
 "metadata": {
  "kernelspec": {
   "display_name": "Python 3",
   "language": "python",
   "name": "python3"
  },
  "language_info": {
   "codemirror_mode": {
    "name": "ipython",
    "version": 3
   },
   "file_extension": ".py",
   "mimetype": "text/x-python",
   "name": "python",
   "nbconvert_exporter": "python",
   "pygments_lexer": "ipython3",
   "version": "3.7.4"
  }
 },
 "nbformat": 4,
 "nbformat_minor": 4
}
