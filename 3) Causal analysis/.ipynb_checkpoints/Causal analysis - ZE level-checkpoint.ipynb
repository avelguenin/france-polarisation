{
 "cells": [
  {
   "cell_type": "markdown",
   "metadata": {},
   "source": [
    "The purpose of this notebook is to expose the causal structure underlying territorial polarisation in 1980-2020 France through canonical regression methods. The causal models we will discover will help discriminating between numerous qualitative assesments of this dynamics.\n",
    "\n",
    "It is essentially based on the statsmodels library (Seabold, S., & Perktold, J. (2010). Statsmodels: Econometric and Statistical Modeling with Python. Proceedings of the 9th Python in Science Conference, 2010.)."
   ]
  },
  {
   "cell_type": "code",
   "execution_count": 1,
   "metadata": {},
   "outputs": [],
   "source": [
    "    ### Importing libraries ###\n",
    "\n",
    "import numpy as np\n",
    "import pandas as pd\n",
    "import json\n",
    "import matplotlib.pyplot as plt\n",
    "\n",
    "import geopandas as gpd\n",
    "import statsmodels.api as sm\n",
    "from statsmodels.graphics.regressionplots import plot_ccpr_grid\n"
   ]
  },
  {
   "cell_type": "code",
   "execution_count": 2,
   "metadata": {},
   "outputs": [
    {
     "ename": "ValueError",
     "evalue": "Expected object or value",
     "output_type": "error",
     "traceback": [
      "\u001b[0;31m---------------------------------------------------------------------------\u001b[0m",
      "\u001b[0;31mValueError\u001b[0m                                Traceback (most recent call last)",
      "\u001b[0;32m<ipython-input-2-75c4b9eb1eca>\u001b[0m in \u001b[0;36m<module>\u001b[0;34m\u001b[0m\n\u001b[1;32m      1\u001b[0m \u001b[0;31m### Importing ZE1990 data ###\u001b[0m\u001b[0;34m\u001b[0m\u001b[0;34m\u001b[0m\u001b[0;34m\u001b[0m\u001b[0m\n\u001b[1;32m      2\u001b[0m \u001b[0;34m\u001b[0m\u001b[0m\n\u001b[0;32m----> 3\u001b[0;31m \u001b[0marea_ZE1990\u001b[0m \u001b[0;34m=\u001b[0m \u001b[0mpd\u001b[0m\u001b[0;34m.\u001b[0m\u001b[0mread_json\u001b[0m\u001b[0;34m(\u001b[0m\u001b[0;34m\"../Data processing/Output/area_ZE1990.json\"\u001b[0m\u001b[0;34m,\u001b[0m \u001b[0mtyp\u001b[0m\u001b[0;34m=\u001b[0m\u001b[0;34m\"series\"\u001b[0m\u001b[0;34m)\u001b[0m\u001b[0;34m\u001b[0m\u001b[0;34m\u001b[0m\u001b[0m\n\u001b[0m\u001b[1;32m      4\u001b[0m \u001b[0mdist_matrix_ZE1990\u001b[0m \u001b[0;34m=\u001b[0m \u001b[0mpd\u001b[0m\u001b[0;34m.\u001b[0m\u001b[0mread_json\u001b[0m\u001b[0;34m(\u001b[0m\u001b[0;34m\"../Data processing/Output/dist_matrix_ZE1990.json\"\u001b[0m\u001b[0;34m)\u001b[0m\u001b[0;34m\u001b[0m\u001b[0;34m\u001b[0m\u001b[0m\n\u001b[1;32m      5\u001b[0m \u001b[0;34m\u001b[0m\u001b[0m\n",
      "\u001b[0;32m~/anaconda3/lib/python3.7/site-packages/pandas/io/json/_json.py\u001b[0m in \u001b[0;36mread_json\u001b[0;34m(path_or_buf, orient, typ, dtype, convert_axes, convert_dates, keep_default_dates, numpy, precise_float, date_unit, encoding, lines, chunksize, compression)\u001b[0m\n\u001b[1;32m    590\u001b[0m         \u001b[0;32mreturn\u001b[0m \u001b[0mjson_reader\u001b[0m\u001b[0;34m\u001b[0m\u001b[0;34m\u001b[0m\u001b[0m\n\u001b[1;32m    591\u001b[0m \u001b[0;34m\u001b[0m\u001b[0m\n\u001b[0;32m--> 592\u001b[0;31m     \u001b[0mresult\u001b[0m \u001b[0;34m=\u001b[0m \u001b[0mjson_reader\u001b[0m\u001b[0;34m.\u001b[0m\u001b[0mread\u001b[0m\u001b[0;34m(\u001b[0m\u001b[0;34m)\u001b[0m\u001b[0;34m\u001b[0m\u001b[0;34m\u001b[0m\u001b[0m\n\u001b[0m\u001b[1;32m    593\u001b[0m     \u001b[0;32mif\u001b[0m \u001b[0mshould_close\u001b[0m\u001b[0;34m:\u001b[0m\u001b[0;34m\u001b[0m\u001b[0;34m\u001b[0m\u001b[0m\n\u001b[1;32m    594\u001b[0m         \u001b[0;32mtry\u001b[0m\u001b[0;34m:\u001b[0m\u001b[0;34m\u001b[0m\u001b[0;34m\u001b[0m\u001b[0m\n",
      "\u001b[0;32m~/anaconda3/lib/python3.7/site-packages/pandas/io/json/_json.py\u001b[0m in \u001b[0;36mread\u001b[0;34m(self)\u001b[0m\n\u001b[1;32m    715\u001b[0m             \u001b[0mobj\u001b[0m \u001b[0;34m=\u001b[0m \u001b[0mself\u001b[0m\u001b[0;34m.\u001b[0m\u001b[0m_get_object_parser\u001b[0m\u001b[0;34m(\u001b[0m\u001b[0mself\u001b[0m\u001b[0;34m.\u001b[0m\u001b[0m_combine_lines\u001b[0m\u001b[0;34m(\u001b[0m\u001b[0mdata\u001b[0m\u001b[0;34m.\u001b[0m\u001b[0msplit\u001b[0m\u001b[0;34m(\u001b[0m\u001b[0;34m\"\\n\"\u001b[0m\u001b[0;34m)\u001b[0m\u001b[0;34m)\u001b[0m\u001b[0;34m)\u001b[0m\u001b[0;34m\u001b[0m\u001b[0;34m\u001b[0m\u001b[0m\n\u001b[1;32m    716\u001b[0m         \u001b[0;32melse\u001b[0m\u001b[0;34m:\u001b[0m\u001b[0;34m\u001b[0m\u001b[0;34m\u001b[0m\u001b[0m\n\u001b[0;32m--> 717\u001b[0;31m             \u001b[0mobj\u001b[0m \u001b[0;34m=\u001b[0m \u001b[0mself\u001b[0m\u001b[0;34m.\u001b[0m\u001b[0m_get_object_parser\u001b[0m\u001b[0;34m(\u001b[0m\u001b[0mself\u001b[0m\u001b[0;34m.\u001b[0m\u001b[0mdata\u001b[0m\u001b[0;34m)\u001b[0m\u001b[0;34m\u001b[0m\u001b[0;34m\u001b[0m\u001b[0m\n\u001b[0m\u001b[1;32m    718\u001b[0m         \u001b[0mself\u001b[0m\u001b[0;34m.\u001b[0m\u001b[0mclose\u001b[0m\u001b[0;34m(\u001b[0m\u001b[0;34m)\u001b[0m\u001b[0;34m\u001b[0m\u001b[0;34m\u001b[0m\u001b[0m\n\u001b[1;32m    719\u001b[0m         \u001b[0;32mreturn\u001b[0m \u001b[0mobj\u001b[0m\u001b[0;34m\u001b[0m\u001b[0;34m\u001b[0m\u001b[0m\n",
      "\u001b[0;32m~/anaconda3/lib/python3.7/site-packages/pandas/io/json/_json.py\u001b[0m in \u001b[0;36m_get_object_parser\u001b[0;34m(self, json)\u001b[0m\n\u001b[1;32m    742\u001b[0m             \u001b[0;32mif\u001b[0m \u001b[0;32mnot\u001b[0m \u001b[0misinstance\u001b[0m\u001b[0;34m(\u001b[0m\u001b[0mdtype\u001b[0m\u001b[0;34m,\u001b[0m \u001b[0mbool\u001b[0m\u001b[0;34m)\u001b[0m\u001b[0;34m:\u001b[0m\u001b[0;34m\u001b[0m\u001b[0;34m\u001b[0m\u001b[0m\n\u001b[1;32m    743\u001b[0m                 \u001b[0mkwargs\u001b[0m\u001b[0;34m[\u001b[0m\u001b[0;34m\"dtype\"\u001b[0m\u001b[0;34m]\u001b[0m \u001b[0;34m=\u001b[0m \u001b[0mdtype\u001b[0m\u001b[0;34m\u001b[0m\u001b[0;34m\u001b[0m\u001b[0m\n\u001b[0;32m--> 744\u001b[0;31m             \u001b[0mobj\u001b[0m \u001b[0;34m=\u001b[0m \u001b[0mSeriesParser\u001b[0m\u001b[0;34m(\u001b[0m\u001b[0mjson\u001b[0m\u001b[0;34m,\u001b[0m \u001b[0;34m**\u001b[0m\u001b[0mkwargs\u001b[0m\u001b[0;34m)\u001b[0m\u001b[0;34m.\u001b[0m\u001b[0mparse\u001b[0m\u001b[0;34m(\u001b[0m\u001b[0;34m)\u001b[0m\u001b[0;34m\u001b[0m\u001b[0;34m\u001b[0m\u001b[0m\n\u001b[0m\u001b[1;32m    745\u001b[0m \u001b[0;34m\u001b[0m\u001b[0m\n\u001b[1;32m    746\u001b[0m         \u001b[0;32mreturn\u001b[0m \u001b[0mobj\u001b[0m\u001b[0;34m\u001b[0m\u001b[0;34m\u001b[0m\u001b[0m\n",
      "\u001b[0;32m~/anaconda3/lib/python3.7/site-packages/pandas/io/json/_json.py\u001b[0m in \u001b[0;36mparse\u001b[0;34m(self)\u001b[0m\n\u001b[1;32m    847\u001b[0m \u001b[0;34m\u001b[0m\u001b[0m\n\u001b[1;32m    848\u001b[0m         \u001b[0;32melse\u001b[0m\u001b[0;34m:\u001b[0m\u001b[0;34m\u001b[0m\u001b[0;34m\u001b[0m\u001b[0m\n\u001b[0;32m--> 849\u001b[0;31m             \u001b[0mself\u001b[0m\u001b[0;34m.\u001b[0m\u001b[0m_parse_no_numpy\u001b[0m\u001b[0;34m(\u001b[0m\u001b[0;34m)\u001b[0m\u001b[0;34m\u001b[0m\u001b[0;34m\u001b[0m\u001b[0m\n\u001b[0m\u001b[1;32m    850\u001b[0m \u001b[0;34m\u001b[0m\u001b[0m\n\u001b[1;32m    851\u001b[0m         \u001b[0;32mif\u001b[0m \u001b[0mself\u001b[0m\u001b[0;34m.\u001b[0m\u001b[0mobj\u001b[0m \u001b[0;32mis\u001b[0m \u001b[0;32mNone\u001b[0m\u001b[0;34m:\u001b[0m\u001b[0;34m\u001b[0m\u001b[0;34m\u001b[0m\u001b[0m\n",
      "\u001b[0;32m~/anaconda3/lib/python3.7/site-packages/pandas/io/json/_json.py\u001b[0m in \u001b[0;36m_parse_no_numpy\u001b[0;34m(self)\u001b[0m\n\u001b[1;32m   1004\u001b[0m             \u001b[0mself\u001b[0m\u001b[0;34m.\u001b[0m\u001b[0mobj\u001b[0m \u001b[0;34m=\u001b[0m \u001b[0mSeries\u001b[0m\u001b[0;34m(\u001b[0m\u001b[0mdtype\u001b[0m\u001b[0;34m=\u001b[0m\u001b[0;32mNone\u001b[0m\u001b[0;34m,\u001b[0m \u001b[0;34m**\u001b[0m\u001b[0mdecoded\u001b[0m\u001b[0;34m)\u001b[0m\u001b[0;34m\u001b[0m\u001b[0;34m\u001b[0m\u001b[0m\n\u001b[1;32m   1005\u001b[0m         \u001b[0;32melse\u001b[0m\u001b[0;34m:\u001b[0m\u001b[0;34m\u001b[0m\u001b[0;34m\u001b[0m\u001b[0m\n\u001b[0;32m-> 1006\u001b[0;31m             \u001b[0mself\u001b[0m\u001b[0;34m.\u001b[0m\u001b[0mobj\u001b[0m \u001b[0;34m=\u001b[0m \u001b[0mSeries\u001b[0m\u001b[0;34m(\u001b[0m\u001b[0mloads\u001b[0m\u001b[0;34m(\u001b[0m\u001b[0mjson\u001b[0m\u001b[0;34m,\u001b[0m \u001b[0mprecise_float\u001b[0m\u001b[0;34m=\u001b[0m\u001b[0mself\u001b[0m\u001b[0;34m.\u001b[0m\u001b[0mprecise_float\u001b[0m\u001b[0;34m)\u001b[0m\u001b[0;34m,\u001b[0m \u001b[0mdtype\u001b[0m\u001b[0;34m=\u001b[0m\u001b[0;32mNone\u001b[0m\u001b[0;34m)\u001b[0m\u001b[0;34m\u001b[0m\u001b[0;34m\u001b[0m\u001b[0m\n\u001b[0m\u001b[1;32m   1007\u001b[0m \u001b[0;34m\u001b[0m\u001b[0m\n\u001b[1;32m   1008\u001b[0m     \u001b[0;32mdef\u001b[0m \u001b[0m_parse_numpy\u001b[0m\u001b[0;34m(\u001b[0m\u001b[0mself\u001b[0m\u001b[0;34m)\u001b[0m\u001b[0;34m:\u001b[0m\u001b[0;34m\u001b[0m\u001b[0;34m\u001b[0m\u001b[0m\n",
      "\u001b[0;31mValueError\u001b[0m: Expected object or value"
     ]
    }
   ],
   "source": [
    "### Importing ZE1990 data ###\n",
    "\n",
    "area_ZE1990 = pd.read_json(\"../Data processing/Output/area_ZE1990.json\", typ=\"series\")\n",
    "dist_matrix_ZE1990 = pd.read_json(\"../Data processing/Output/dist_matrix_ZE1990.json\")\n",
    "\n",
    "dUC_timeseries_ZE1990 = pd.read_json(\"../Data processing/Output/dUC_timeseries_ZE1990.json\")\n",
    "d1_timeseries_ZE1990 = pd.read_json(\"../Data processing/Output/d1_timeseries_ZE1990.json\")\n",
    "med_timeseries_ZE1990 = pd.read_json(\"../Data processing/Output/med_timeseries_ZE1990.json\")\n",
    "d9_timeseries_ZE1990 = pd.read_json(\"../Data processing/Output/d9_timeseries_ZE1990.json\")\n",
    "moy_timeseries_ZE1990 = pd.read_json(\"../Data processing/Output/moy_timeseries_ZE1990.json\")\n",
    "intQ_timeseries_ZE1990 = pd.read_json(\"../Data processing/Output/intQ_timeseries_ZE1990.json\")\n"
   ]
  },
  {
   "cell_type": "code",
   "execution_count": null,
   "metadata": {},
   "outputs": [],
   "source": [
    "### Importing ZE2010 data ###\n",
    "\n",
    "area_ZE2010 = pd.read_json(\"../Data processing/Output/area_ZE2010.json\", typ=\"series\")\n",
    "dist_matrix_ZE2010 = pd.read_json(\"../Data processing/Output/dist_matrix_ZE2010.json\")\n",
    "\n",
    "dUC_timeseries_ZE2010 = pd.read_json(\"../Data processing/Output/dUC_timeseries_ZE2010.json\")\n",
    "d1_timeseries_ZE2010 = pd.read_json(\"../Data processing/Output/d1_timeseries_ZE2010.json\")\n",
    "med_timeseries_ZE2010 = pd.read_json(\"../Data processing/Output/med_timeseries_ZE2010.json\")\n",
    "d9_timeseries_ZE2010 = pd.read_json(\"../Data processing/Output/d9_timeseries_ZE2010.json\")\n",
    "## moy_timeseries_ZE2010 = pd.read_json(\"../Data processing/Output/moy_timeseries_ZE2010.json\")\n",
    "intQ_timeseries_ZE2010 = pd.read_json(\"../Data processing/Output/intQ_timeseries_ZE2010.json\")\n",
    "\n",
    "tert_timeseries_ZE2010 = pd.read_json(\"../Data processing/Output/tert_timeseries_ZE2010.json\")"
   ]
  },
  {
   "cell_type": "code",
   "execution_count": null,
   "metadata": {},
   "outputs": [],
   "source": [
    "### Importing other data\n",
    "\n",
    "foreigndebt_timeseries = pd.read_json(\"../Data processing/Output/foreigndebt_timeseries.json\")\n",
    "foreigncapitals_timeseries = pd.read_json(\"../Data processing/Output/foreigncapitals_timeseries.json\")"
   ]
  },
  {
   "cell_type": "markdown",
   "metadata": {},
   "source": [
    "We will below implement a global prediction of polarisation levels from financiarisation and productivity disparities"
   ]
  },
  {
   "cell_type": "code",
   "execution_count": null,
   "metadata": {},
   "outputs": [],
   "source": [
    "### Extracting D1 and D9 index for ZE1990 and ZE2010 data\n",
    "\n",
    "def D1D9_polarisation(med_timeseries, bottom_timeseries, top_timeseries, D1D9_number):\n",
    "    top_index = med_timeseries.mean().nlargest(D1D9_number).index\n",
    "    bottom_index = med_timeseries.mean().nsmallest(D1D9_number).index\n",
    "    \n",
    "    D1D9_pol = np.log(top_timeseries[top_index]).mean(axis=1) -  np.log(bottom_timeseries[bottom_index]).mean(axis=1)\n",
    "    \n",
    "    return(D1D9_pol)\n",
    "\n",
    "D1D9_number = 25"
   ]
  },
  {
   "cell_type": "code",
   "execution_count": null,
   "metadata": {},
   "outputs": [],
   "source": [
    "### Regression on global polarisation (static)\n",
    "\n",
    "    ## Defining exog (with centered regressors)\n",
    "X = pd.DataFrame(index = range(1999, 2018))\n",
    "\n",
    "X[\"Intercept\"] = 1\n",
    "X[\"Dette étrangère\"] = np.log(foreigndebt_timeseries)\n",
    "X[\"Capitaux étrangers\"] = np.log(foreigncapitals_timeseries)\n",
    "X[\"Polarisation de la composition sectorielle\"] = D1D9_polarisation(med_timeseries_ZE2010, tert_timeseries_ZE2010, tert_timeseries_ZE2010, D1D9_number)\n",
    "\n",
    "X[X.columns[1:]] = X[X.columns[1:]]-X[X.columns[1:]].mean() ### centering all columns but intercept\n",
    "\n",
    "    ## Defining endog\n",
    "y = pd.DataFrame(index = range(2001,2018))\n",
    "\n",
    "y[\"Polarisation des revenus\"] = pd.concat([D1D9_polarisation(med_timeseries_ZE1990, d1_timeseries_ZE1990, d9_timeseries_ZE1990, D1D9_number), D1D9_polarisation(med_timeseries_ZE2010, d1_timeseries_ZE2010, d9_timeseries_ZE2010, D1D9_number)])\n",
    "\n",
    "    ## Regressing\n",
    "results = sm.GLS(y, X.loc[y.index]).fit()\n",
    "\n",
    "print(results.summary())"
   ]
  },
  {
   "cell_type": "code",
   "execution_count": null,
   "metadata": {},
   "outputs": [],
   "source": [
    "### Regression on global polarisation (dynamic)\n",
    "\n",
    "    ## Defining exog\n",
    "X = pd.DataFrame(index = range(1999, 2018))\n",
    "X[\"Intercept\"] = 1\n",
    "\n",
    "X[\"Dette étrangère\"] = np.log(foreigndebt_timeseries)\n",
    "X[\"Capitaux étrangers\"] = np.log(foreigncapitals_timeseries)\n",
    "X[\"Polarisation de la composition sectorielle\"] = D1D9_polarisation(med_timeseries_ZE2010, tert_timeseries_ZE2010, tert_timeseries_ZE2010, D1D9_number)\n",
    "X[\"Polarisation des revenus\"] = pd.concat([D1D9_polarisation(med_timeseries_ZE1990, d1_timeseries_ZE1990, d9_timeseries_ZE1990, D1D9_number), D1D9_polarisation(med_timeseries_ZE2010, d1_timeseries_ZE2010, d9_timeseries_ZE2010, D1D9_number)])\n",
    "\n",
    "X = X.dropna()\n",
    "X[X.columns[1:]] = X[X.columns[1:]]-X[X.columns[1:]].mean() ### centering all columns but intercept\n",
    "\n",
    "    ## Defining endog\n",
    "y = pd.DataFrame(index = range(1999,2018))\n",
    "\n",
    "y[\"Variation annuelle de la polarisation des revenus\"] = X[\"Polarisation des revenus\"].diff().shift(-1)\n",
    "y = y.dropna()\n",
    "\n",
    "    ## Regressing\n",
    "results = sm.GLS(y, X.loc[y.index]).fit()\n",
    "\n",
    "print(results.summary())"
   ]
  },
  {
   "cell_type": "code",
   "execution_count": null,
   "metadata": {},
   "outputs": [],
   "source": [
    "### Drawing data\n",
    "\n",
    "fig = plt.figure(figsize=(9,6))\n",
    "\n",
    "X_plot = X\n",
    "\n",
    "plt.plot(X_plot[\"Dette étrangère\"], label=\"Montant de la dette d'État détenus par des capitaux étrangers\")\n",
    "plt.plot(X_plot[\"Capitaux étrangers\"], label=\"Montant des parts des entreprises du CAC40 détenus par des capitaux étrangers\")\n",
    "plt.plot(X_plot[\"Polarisation de la composition sectorielle\"], label=\"Polarisation entre la tertiarisation des \" + str(D1D9_number) + \" ZE les plus (resp. les moins) riches\")\n",
    "plt.plot(X_plot[\"Polarisation des revenus\"], label=\"Polarisation entre le d9 (resp. le d1) des \" + str(D1D9_number) + \" ZE les plus (resp. les moins) riches\")\n",
    "\n",
    "plt.legend()\n",
    "\n",
    "plt.savefig(\"Global regression variables.png\")\n",
    "plt.show()"
   ]
  },
  {
   "cell_type": "code",
   "execution_count": null,
   "metadata": {},
   "outputs": [],
   "source": [
    "### Defining data for regression on local polarisation proxies (ZE1990)\n",
    "\n",
    "    ## Defining endog\n",
    "X = pd.DataFrame(index=pd.MultiIndex.from_product([med_timeseries_ZE1990.columns, range(2001,2009)]))\n",
    "X[\"Intercept\"] = 1\n",
    "\n",
    "X[\"UC density\"] = np.log(dUC_timeseries_ZE1990).stack().swaplevel()\n",
    "X[\"Median revenue\"] = np.log(med_timeseries_ZE1990).stack().swaplevel()\n",
    "X[\"Interdecile quotient\"] = np.log(intQ_timeseries_ZE1990).stack().swaplevel()\n",
    "\n",
    "X[\"Dette étrangère\"] = np.log(foreigndebt_timeseries)\n",
    "X[\"Capitaux étrangers\"] = np.log(foreigncapitals_timeseries)\n",
    "\n",
    "markpot_ZE1990 = (med_timeseries_ZE1990*dUC_timeseries_ZE1990*area_ZE1990).dot((1/dist_matrix_ZE1990).replace([np.inf, -np.inf], 1))\n",
    "X[\"Market potential\"] = np.log(markpot_ZE1990).stack().swaplevel()\n",
    "\n",
    "X[X.columns[1:]] = X[X.columns[1:]]-X[X.columns[1:]].mean() ### centering all columns but intercept\n",
    "X = X.dropna()\n",
    "\n",
    "    \n",
    "    ## Defining exog\n",
    "y = pd.DataFrame(index=pd.MultiIndex.from_product([med_timeseries_ZE1990.columns, range(2001,2009)]))\n",
    "\n",
    "y[\"UC density\"] = np.log(dUC_timeseries_ZE1990).diff().shift(-1).stack().swaplevel()\n",
    "y[\"Median revenue\"] = np.log(med_timeseries_ZE1990).diff().shift(-1).stack().swaplevel()\n",
    "y[\"Interdecile quotient\"] = np.log(intQ_timeseries_ZE1990).diff().shift(-1).stack().swaplevel()\n",
    "\n",
    "y = y.dropna()"
   ]
  },
  {
   "cell_type": "code",
   "execution_count": null,
   "metadata": {},
   "outputs": [],
   "source": [
    "    ## Regressing on UC density\n",
    "results = sm.GLS(y[\"UC density\"], X.loc[y.index]).fit()\n",
    "\n",
    "print(results.summary())"
   ]
  },
  {
   "cell_type": "code",
   "execution_count": null,
   "metadata": {},
   "outputs": [],
   "source": [
    "    ## Regressing on med revenue\n",
    "results = sm.GLS(y[\"Median revenue\"], X.loc[y.index]).fit()\n",
    "\n",
    "print(results.summary())"
   ]
  },
  {
   "cell_type": "code",
   "execution_count": null,
   "metadata": {},
   "outputs": [],
   "source": [
    "    ## Regressing on interdecile quotient\n",
    "results = sm.GLS(y[\"Interdecile quotient\"], X.loc[y.index]).fit()\n",
    "\n",
    "print(results.summary())"
   ]
  },
  {
   "cell_type": "code",
   "execution_count": null,
   "metadata": {},
   "outputs": [],
   "source": [
    "### Defining data for regression on local polarisation proxies (ZE2010)\n",
    "\n",
    "    ## Defining endog\n",
    "X = pd.DataFrame(index=pd.MultiIndex.from_product([med_timeseries_ZE2010.columns, range(2009,2017)]))\n",
    "X[\"Intercept\"] = 1\n",
    "\n",
    "X[\"UC density\"] = np.log(dUC_timeseries_ZE2010).stack().swaplevel()\n",
    "X[\"Median revenue\"] = np.log(med_timeseries_ZE2010).stack().swaplevel()\n",
    "X[\"Interdecile quotient\"] = np.log(intQ_timeseries_ZE2010).stack().swaplevel()\n",
    "\n",
    "markpot_ZE2010 = (med_timeseries_ZE2010*dUC_timeseries_ZE2010*area_ZE2010).dot((1/dist_matrix_ZE2010).replace([np.inf, -np.inf], 1))\n",
    "X[\"Market potential\"] = np.log(markpot_ZE2010).stack().swaplevel()\n",
    "\n",
    "X[X.columns[1:]] = X[X.columns[1:]]-X[X.columns[1:]].mean() ### centering all columns but intercept\n",
    "X = X.dropna()\n",
    "    \n",
    "    ## Defining exog\n",
    "y = pd.DataFrame(index=pd.MultiIndex.from_product([med_timeseries_ZE2010.columns, range(2009,2017)]))\n",
    "\n",
    "y[\"UC density\"] = np.log(dUC_timeseries_ZE2010).diff().shift(-1).stack().swaplevel()\n",
    "y[\"Median revenue\"] = np.log(med_timeseries_ZE2010).diff().shift(-1).stack().swaplevel()\n",
    "y[\"Interdecile quotient\"] = np.log(intQ_timeseries_ZE2010).diff().shift(-1).stack().swaplevel()\n",
    "\n",
    "y = y.dropna()"
   ]
  },
  {
   "cell_type": "code",
   "execution_count": null,
   "metadata": {},
   "outputs": [],
   "source": [
    "    ## Regressing on UC density\n",
    "results = sm.GLS(y[\"UC density\"], X.loc[y.index]).fit()\n",
    "\n",
    "print(results.summary())"
   ]
  },
  {
   "cell_type": "code",
   "execution_count": null,
   "metadata": {},
   "outputs": [],
   "source": [
    "    ## Regressing on med revenue\n",
    "results = sm.GLS(y[\"Median revenue\"], X.loc[y.index]).fit()\n",
    "\n",
    "print(results.summary())"
   ]
  },
  {
   "cell_type": "code",
   "execution_count": null,
   "metadata": {},
   "outputs": [],
   "source": [
    "    ## Regressing on interdecile quotient\n",
    "results = sm.GLS(y[\"Interdecile quotient\"], X.loc[y.index]).fit()\n",
    "\n",
    "print(results.summary())"
   ]
  },
  {
   "cell_type": "code",
   "execution_count": null,
   "metadata": {},
   "outputs": [],
   "source": []
  },
  {
   "cell_type": "code",
   "execution_count": null,
   "metadata": {},
   "outputs": [],
   "source": []
  }
 ],
 "metadata": {
  "kernelspec": {
   "display_name": "Python 3",
   "language": "python",
   "name": "python3"
  },
  "language_info": {
   "codemirror_mode": {
    "name": "ipython",
    "version": 3
   },
   "file_extension": ".py",
   "mimetype": "text/x-python",
   "name": "python",
   "nbconvert_exporter": "python",
   "pygments_lexer": "ipython3",
   "version": "3.7.4"
  }
 },
 "nbformat": 4,
 "nbformat_minor": 4
}
