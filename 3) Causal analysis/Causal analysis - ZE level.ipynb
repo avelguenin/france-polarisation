{
 "cells": [
  {
   "cell_type": "markdown",
   "metadata": {},
   "source": [
    "The purpose of this notebook is to expose the causal structure underlying territorial polarisation in 1980-2020 France through canonical regression methods. The causal models we will discover will help discriminating between numerous qualitative assesments of this dynamics.\n",
    "\n",
    "It is essentially based on the statsmodels library (Seabold, S., & Perktold, J. (2010). Statsmodels: Econometric and Statistical Modeling with Python. Proceedings of the 9th Python in Science Conference, 2010.).\n",
    "\n",
    "In addition, we adapted the SESHAT regression methodology (Turchin, P. (2018). Fitting Dynamic Regression Models to Seshat Data. 35.), which was designed to handle both within- and between-areas interactions in cultural evolution, to adress similar dynamics in economic geography."
   ]
  },
  {
   "cell_type": "code",
   "execution_count": 1,
   "metadata": {},
   "outputs": [],
   "source": [
    "    ### Importing libraries ###\n",
    "\n",
    "import numpy as np\n",
    "import pandas as pd\n",
    "import json\n",
    "import matplotlib.pyplot as plt\n",
    "\n",
    "import geopandas as gpd\n",
    "import statsmodels.api as sm\n",
    "from statsmodels.graphics.regressionplots import plot_ccpr_grid\n"
   ]
  },
  {
   "cell_type": "code",
   "execution_count": 2,
   "metadata": {},
   "outputs": [],
   "source": [
    "### Importing ZE1990 data ###\n",
    "\n",
    "area_ZE1990 = pd.read_json(\"../Data processing/Output/area_ZE1990.json\", typ=\"series\")\n",
    "dist_matrix_ZE1990 = pd.read_json(\"../Data processing/Output/dist_matrix_ZE1990.json\")\n",
    "\n",
    "dUC_timeseries_ZE1990 = pd.read_json(\"../Data processing/Output/dUC_timeseries_ZE1990.json\")\n",
    "d1_timeseries_ZE1990 = pd.read_json(\"../Data processing/Output/d1_timeseries_ZE1990.json\")\n",
    "med_timeseries_ZE1990 = pd.read_json(\"../Data processing/Output/med_timeseries_ZE1990.json\")\n",
    "d9_timeseries_ZE1990 = pd.read_json(\"../Data processing/Output/d9_timeseries_ZE1990.json\")\n",
    "moy_timeseries_ZE1990 = pd.read_json(\"../Data processing/Output/moy_timeseries_ZE1990.json\")\n",
    "intQ_timeseries_ZE1990 = pd.read_json(\"../Data processing/Output/intQ_timeseries_ZE1990.json\")\n"
   ]
  },
  {
   "cell_type": "code",
   "execution_count": 3,
   "metadata": {},
   "outputs": [],
   "source": [
    "### Importing ZE2010 data ###\n",
    "\n",
    "area_ZE2010 = pd.read_json(\"../Data processing/Output/area_ZE2010.json\", typ=\"series\")\n",
    "dist_matrix_ZE2010 = pd.read_json(\"../Data processing/Output/dist_matrix_ZE2010.json\")\n",
    "\n",
    "dUC_timeseries_ZE2010 = pd.read_json(\"../Data processing/Output/dUC_timeseries_ZE2010.json\")\n",
    "d1_timeseries_ZE2010 = pd.read_json(\"../Data processing/Output/d1_timeseries_ZE2010.json\")\n",
    "med_timeseries_ZE2010 = pd.read_json(\"../Data processing/Output/med_timeseries_ZE2010.json\")\n",
    "d9_timeseries_ZE2010 = pd.read_json(\"../Data processing/Output/d9_timeseries_ZE2010.json\")\n",
    "## moy_timeseries_ZE2010 = pd.read_json(\"../Data processing/Output/moy_timeseries_ZE2010.json\")\n",
    "intQ_timeseries_ZE2010 = pd.read_json(\"../Data processing/Output/intQ_timeseries_ZE2010.json\")\n",
    "\n",
    "tert_timeseries_ZE2010 = pd.read_json(\"../Data processing/Output/tert_timeseries_ZE2010.json\")"
   ]
  },
  {
   "cell_type": "code",
   "execution_count": 4,
   "metadata": {},
   "outputs": [],
   "source": [
    "### Importing other data\n",
    "\n",
    "foreigndebt_timeseries = pd.read_json(\"../Data processing/Output/foreigndebt_timeseries.json\")\n",
    "foreigncapitals_timeseries = pd.read_json(\"../Data processing/Output/foreigncapitals_timeseries.json\")"
   ]
  },
  {
   "cell_type": "markdown",
   "metadata": {},
   "source": [
    "We will below implement a global prediction of polarisation levels from financiarisation and productivity disparities"
   ]
  },
  {
   "cell_type": "code",
   "execution_count": 5,
   "metadata": {},
   "outputs": [],
   "source": [
    "### Extracting D1 and D9 index for ZE1990 and ZE2010 data\n",
    "\n",
    "def D1D9_polarisation(med_timeseries, bottom_timeseries, top_timeseries, D1D9_number):\n",
    "    top_index = med_timeseries.mean().nlargest(D1D9_number).index\n",
    "    bottom_index = med_timeseries.mean().nsmallest(D1D9_number).index\n",
    "    \n",
    "    D1D9_pol = np.log(top_timeseries[top_index]).mean(axis=1) -  np.log(bottom_timeseries[bottom_index]).mean(axis=1)\n",
    "    \n",
    "    return(D1D9_pol)\n",
    "\n",
    "D1D9_number = 25"
   ]
  },
  {
   "cell_type": "code",
   "execution_count": 20,
   "metadata": {},
   "outputs": [
    {
     "name": "stdout",
     "output_type": "stream",
     "text": [
      "                               GLS Regression Results                               \n",
      "====================================================================================\n",
      "Dep. Variable:     Polarisation des revenus   R-squared:                       0.627\n",
      "Model:                                  GLS   Adj. R-squared:                  0.541\n",
      "Method:                       Least Squares   F-statistic:                     7.280\n",
      "Date:                      Thu, 06 Aug 2020   Prob (F-statistic):            0.00412\n",
      "Time:                              11:32:12   Log-Likelihood:                 42.506\n",
      "No. Observations:                        17   AIC:                            -77.01\n",
      "Df Residuals:                            13   BIC:                            -73.68\n",
      "Df Model:                                 3                                         \n",
      "Covariance Type:                  nonrobust                                         \n",
      "==============================================================================================================\n",
      "                                                 coef    std err          t      P>|t|      [0.025      0.975]\n",
      "--------------------------------------------------------------------------------------------------------------\n",
      "Intercept                                      2.2017      0.006    368.885      0.000       2.189       2.215\n",
      "Dette étrangère                               -0.0748      0.038     -1.986      0.069      -0.156       0.007\n",
      "Capitaux étrangers                             0.0872      0.111      0.786      0.446      -0.153       0.327\n",
      "Polarisation de la composition sectorielle    -6.5817      1.459     -4.512      0.001      -9.733      -3.431\n",
      "==============================================================================\n",
      "Omnibus:                        2.241   Durbin-Watson:                   1.866\n",
      "Prob(Omnibus):                  0.326   Jarque-Bera (JB):                0.589\n",
      "Skew:                           0.112   Prob(JB):                        0.745\n",
      "Kurtosis:                       3.884   Cond. No.                         266.\n",
      "==============================================================================\n",
      "\n",
      "Warnings:\n",
      "[1] Standard Errors assume that the covariance matrix of the errors is correctly specified.\n"
     ]
    },
    {
     "name": "stderr",
     "output_type": "stream",
     "text": [
      "/home/avel/anaconda3/lib/python3.7/site-packages/scipy/stats/stats.py:1450: UserWarning: kurtosistest only valid for n>=20 ... continuing anyway, n=17\n",
      "  \"anyway, n=%i\" % int(n))\n"
     ]
    }
   ],
   "source": [
    "### Regression on global polarisation (static)\n",
    "\n",
    "    ## Defining exog (with centered regressors)\n",
    "X = pd.DataFrame(index = range(1999, 2018))\n",
    "\n",
    "X[\"Intercept\"] = 1\n",
    "X[\"Dette étrangère\"] = np.log(foreigndebt_timeseries)\n",
    "X[\"Capitaux étrangers\"] = np.log(foreigncapitals_timeseries)\n",
    "X[\"Polarisation de la composition sectorielle\"] = D1D9_polarisation(med_timeseries_ZE2010, tert_timeseries_ZE2010, tert_timeseries_ZE2010, D1D9_number)\n",
    "\n",
    "X[X.columns[1:]] = X[X.columns[1:]]-X[X.columns[1:]].mean() ### centering all columns but intercept\n",
    "\n",
    "    ## Defining endog\n",
    "y = pd.DataFrame(index = range(2001,2018))\n",
    "\n",
    "y[\"Polarisation des revenus\"] = pd.concat([D1D9_polarisation(med_timeseries_ZE1990, d1_timeseries_ZE1990, d9_timeseries_ZE1990, D1D9_number), D1D9_polarisation(med_timeseries_ZE2010, d1_timeseries_ZE2010, d9_timeseries_ZE2010, D1D9_number)])\n",
    "\n",
    "    ## Regressing\n",
    "results = sm.GLS(y, X.loc[y.index]).fit()\n",
    "\n",
    "print(results.summary())"
   ]
  },
  {
   "cell_type": "code",
   "execution_count": 21,
   "metadata": {},
   "outputs": [
    {
     "name": "stdout",
     "output_type": "stream",
     "text": [
      "                                            GLS Regression Results                                           \n",
      "=============================================================================================================\n",
      "Dep. Variable:     Variation annuelle de la polarisation des revenus   R-squared:                       0.574\n",
      "Model:                                                           GLS   Adj. R-squared:                  0.419\n",
      "Method:                                                Least Squares   F-statistic:                     3.709\n",
      "Date:                                               Thu, 06 Aug 2020   Prob (F-statistic):             0.0379\n",
      "Time:                                                       11:32:14   Log-Likelihood:                 47.664\n",
      "No. Observations:                                                 16   AIC:                            -85.33\n",
      "Df Residuals:                                                     11   BIC:                            -81.46\n",
      "Df Model:                                                          4                                         \n",
      "Covariance Type:                                           nonrobust                                         \n",
      "==============================================================================================================\n",
      "                                                 coef    std err          t      P>|t|      [0.025      0.975]\n",
      "--------------------------------------------------------------------------------------------------------------\n",
      "Intercept                                      0.0022      0.004      0.582      0.572      -0.006       0.010\n",
      "Dette étrangère                               -0.0037      0.028     -0.130      0.899      -0.066       0.059\n",
      "Capitaux étrangers                             0.0869      0.075      1.163      0.269      -0.078       0.251\n",
      "Polarisation de la composition sectorielle    -4.1326      1.577     -2.620      0.024      -7.604      -0.661\n",
      "Polarisation des revenus                      -0.5131      0.182     -2.827      0.016      -0.913      -0.114\n",
      "==============================================================================\n",
      "Omnibus:                        0.332   Durbin-Watson:                   2.119\n",
      "Prob(Omnibus):                  0.847   Jarque-Bera (JB):                0.185\n",
      "Skew:                           0.225   Prob(JB):                        0.912\n",
      "Kurtosis:                       2.728   Cond. No.                         427.\n",
      "==============================================================================\n",
      "\n",
      "Warnings:\n",
      "[1] Standard Errors assume that the covariance matrix of the errors is correctly specified.\n"
     ]
    },
    {
     "name": "stderr",
     "output_type": "stream",
     "text": [
      "/home/avel/anaconda3/lib/python3.7/site-packages/scipy/stats/stats.py:1450: UserWarning: kurtosistest only valid for n>=20 ... continuing anyway, n=16\n",
      "  \"anyway, n=%i\" % int(n))\n"
     ]
    }
   ],
   "source": [
    "### Regression on global polarisation (dynamic)\n",
    "\n",
    "    ## Defining exog\n",
    "X = pd.DataFrame(index = range(1999, 2018))\n",
    "X[\"Intercept\"] = 1\n",
    "\n",
    "X[\"Dette étrangère\"] = np.log(foreigndebt_timeseries)\n",
    "X[\"Capitaux étrangers\"] = np.log(foreigncapitals_timeseries)\n",
    "X[\"Polarisation de la composition sectorielle\"] = D1D9_polarisation(med_timeseries_ZE2010, tert_timeseries_ZE2010, tert_timeseries_ZE2010, D1D9_number)\n",
    "X[\"Polarisation des revenus\"] = pd.concat([D1D9_polarisation(med_timeseries_ZE1990, d1_timeseries_ZE1990, d9_timeseries_ZE1990, D1D9_number), D1D9_polarisation(med_timeseries_ZE2010, d1_timeseries_ZE2010, d9_timeseries_ZE2010, D1D9_number)])\n",
    "\n",
    "X = X.dropna()\n",
    "X[X.columns[1:]] = X[X.columns[1:]]-X[X.columns[1:]].mean() ### centering all columns but intercept\n",
    "\n",
    "    ## Defining endog\n",
    "y = pd.DataFrame(index = range(1999,2018))\n",
    "\n",
    "y[\"Variation annuelle de la polarisation des revenus\"] = X[\"Polarisation des revenus\"].diff().shift(-1)\n",
    "y = y.dropna()\n",
    "\n",
    "    ## Regressing\n",
    "results = sm.GLS(y, X.loc[y.index]).fit()\n",
    "\n",
    "print(results.summary())"
   ]
  },
  {
   "cell_type": "code",
   "execution_count": 23,
   "metadata": {},
   "outputs": [
    {
     "data": {
      "image/png": "[encoded data removed]",
      "text/plain": [
       "<Figure size 648x432 with 1 Axes>"
      ]
     },
     "metadata": {
      "needs_background": "light"
     },
     "output_type": "display_data"
    }
   ],
   "source": [
    "### Drawing data\n",
    "\n",
    "fig = plt.figure(figsize=(9,6))\n",
    "\n",
    "X_plot = X\n",
    "\n",
    "plt.plot(X_plot[\"Dette étrangère\"], label=\"Montant de la dette d'État détenus par des capitaux étrangers\")\n",
    "plt.plot(X_plot[\"Capitaux étrangers\"], label=\"Montant des parts des entreprises du CAC40 détenus par des capitaux étrangers\")\n",
    "plt.plot(X_plot[\"Polarisation de la composition sectorielle\"], label=\"Polarisation entre la tertiarisation des \" + str(D1D9_number) + \" ZE les plus (resp. les moins) riches\")\n",
    "plt.plot(X_plot[\"Polarisation des revenus\"], label=\"Polarisation entre le d9 (resp. le d1) des \" + str(D1D9_number) + \" ZE les plus (resp. les moins) riches\")\n",
    "\n",
    "plt.legend()\n",
    "\n",
    "plt.savefig(\"Global regression variables.png\")\n",
    "plt.show()"
   ]
  },
  {
   "cell_type": "code",
   "execution_count": 24,
   "metadata": {},
   "outputs": [],
   "source": [
    "### Defining data for regression on local polarisation proxies (ZE1990)\n",
    "\n",
    "    ## Defining endog\n",
    "X = pd.DataFrame(index=pd.MultiIndex.from_product([med_timeseries_ZE1990.columns, range(2001,2009)]))\n",
    "X[\"Intercept\"] = 1\n",
    "\n",
    "X[\"UC density\"] = np.log(dUC_timeseries_ZE1990).stack().swaplevel()\n",
    "X[\"Median revenue\"] = np.log(med_timeseries_ZE1990).stack().swaplevel()\n",
    "X[\"Interdecile quotient\"] = np.log(intQ_timeseries_ZE1990).stack().swaplevel()\n",
    "\n",
    "markpot_ZE1990 = (med_timeseries_ZE1990*dUC_timeseries_ZE1990*area_ZE1990).dot((1/dist_matrix_ZE1990).replace([np.inf, -np.inf], 1))\n",
    "X[\"Market potential\"] = np.log(markpot_ZE1990).stack().swaplevel()\n",
    "\n",
    "X[X.columns[1:]] = X[X.columns[1:]]-X[X.columns[1:]].mean() ### centering all columns but intercept\n",
    "X = X.dropna()\n",
    "\n",
    "    \n",
    "    ## Defining exog\n",
    "y = pd.DataFrame(index=pd.MultiIndex.from_product([med_timeseries_ZE1990.columns, range(2001,2009)]))\n",
    "\n",
    "y[\"UC density\"] = np.log(dUC_timeseries_ZE1990).diff().shift(-1).stack().swaplevel()\n",
    "y[\"Median revenue\"] = np.log(med_timeseries_ZE1990).diff().shift(-1).stack().swaplevel()\n",
    "y[\"Interdecile quotient\"] = np.log(intQ_timeseries_ZE1990).diff().shift(-1).stack().swaplevel()\n",
    "\n",
    "y = y.dropna()"
   ]
  },
  {
   "cell_type": "code",
   "execution_count": 25,
   "metadata": {},
   "outputs": [
    {
     "name": "stdout",
     "output_type": "stream",
     "text": [
      "                            GLS Regression Results                            \n",
      "==============================================================================\n",
      "Dep. Variable:             UC density   R-squared:                       0.115\n",
      "Model:                            GLS   Adj. R-squared:                  0.114\n",
      "Method:                 Least Squares   F-statistic:                     79.08\n",
      "Date:                Thu, 06 Aug 2020   Prob (F-statistic):           3.83e-63\n",
      "Time:                        11:34:10   Log-Likelihood:                 7738.8\n",
      "No. Observations:                2430   AIC:                        -1.547e+04\n",
      "Df Residuals:                    2425   BIC:                        -1.544e+04\n",
      "Df Model:                           4                                         \n",
      "Covariance Type:            nonrobust                                         \n",
      "========================================================================================\n",
      "                           coef    std err          t      P>|t|      [0.025      0.975]\n",
      "----------------------------------------------------------------------------------------\n",
      "Intercept                0.0125      0.000     60.735      0.000       0.012       0.013\n",
      "UC density              -0.0003      0.000     -0.902      0.367      -0.001       0.000\n",
      "Median revenue           0.0376      0.002     17.273      0.000       0.033       0.042\n",
      "Interdecile quotient     0.0117      0.001      9.332      0.000       0.009       0.014\n",
      "Market potential        -0.0057      0.001     -8.121      0.000      -0.007      -0.004\n",
      "==============================================================================\n",
      "Omnibus:                      551.478   Durbin-Watson:                   1.534\n",
      "Prob(Omnibus):                  0.000   Jarque-Bera (JB):             1853.894\n",
      "Skew:                           1.115   Prob(JB):                         0.00\n",
      "Kurtosis:                       6.652   Cond. No.                         12.8\n",
      "==============================================================================\n",
      "\n",
      "Warnings:\n",
      "[1] Standard Errors assume that the covariance matrix of the errors is correctly specified.\n"
     ]
    }
   ],
   "source": [
    "    ## Regressing on UC density\n",
    "results = sm.GLS(y[\"UC density\"], X.loc[y.index]).fit()\n",
    "\n",
    "print(results.summary())"
   ]
  },
  {
   "cell_type": "code",
   "execution_count": 26,
   "metadata": {},
   "outputs": [
    {
     "name": "stdout",
     "output_type": "stream",
     "text": [
      "                            GLS Regression Results                            \n",
      "==============================================================================\n",
      "Dep. Variable:         Median revenue   R-squared:                       0.083\n",
      "Model:                            GLS   Adj. R-squared:                  0.081\n",
      "Method:                 Least Squares   F-statistic:                     54.72\n",
      "Date:                Thu, 06 Aug 2020   Prob (F-statistic):           3.18e-44\n",
      "Time:                        11:34:12   Log-Likelihood:                 8683.9\n",
      "No. Observations:                2430   AIC:                        -1.736e+04\n",
      "Df Residuals:                    2425   BIC:                        -1.733e+04\n",
      "Df Model:                           4                                         \n",
      "Covariance Type:            nonrobust                                         \n",
      "========================================================================================\n",
      "                           coef    std err          t      P>|t|      [0.025      0.975]\n",
      "----------------------------------------------------------------------------------------\n",
      "Intercept                0.0321      0.000    229.814      0.000       0.032       0.032\n",
      "UC density              -0.0020      0.000     -8.396      0.000      -0.002      -0.002\n",
      "Median revenue           0.0072      0.001      4.884      0.000       0.004       0.010\n",
      "Interdecile quotient     0.0074      0.001      8.687      0.000       0.006       0.009\n",
      "Market potential        -0.0014      0.000     -2.904      0.004      -0.002      -0.000\n",
      "==============================================================================\n",
      "Omnibus:                      131.868   Durbin-Watson:                   1.430\n",
      "Prob(Omnibus):                  0.000   Jarque-Bera (JB):              344.984\n",
      "Skew:                          -0.286   Prob(JB):                     1.22e-75\n",
      "Kurtosis:                       4.755   Cond. No.                         12.8\n",
      "==============================================================================\n",
      "\n",
      "Warnings:\n",
      "[1] Standard Errors assume that the covariance matrix of the errors is correctly specified.\n"
     ]
    }
   ],
   "source": [
    "    ## Regressing on med revenue\n",
    "results = sm.GLS(y[\"Median revenue\"], X.loc[y.index]).fit()\n",
    "\n",
    "print(results.summary())"
   ]
  },
  {
   "cell_type": "code",
   "execution_count": 27,
   "metadata": {},
   "outputs": [
    {
     "name": "stdout",
     "output_type": "stream",
     "text": [
      "                             GLS Regression Results                             \n",
      "================================================================================\n",
      "Dep. Variable:     Interdecile quotient   R-squared:                       0.046\n",
      "Model:                              GLS   Adj. R-squared:                  0.044\n",
      "Method:                   Least Squares   F-statistic:                     29.05\n",
      "Date:                  Thu, 06 Aug 2020   Prob (F-statistic):           1.26e-23\n",
      "Time:                          11:34:15   Log-Likelihood:                 6090.5\n",
      "No. Observations:                  2430   AIC:                        -1.217e+04\n",
      "Df Residuals:                      2425   BIC:                        -1.214e+04\n",
      "Df Model:                             4                                         \n",
      "Covariance Type:              nonrobust                                         \n",
      "========================================================================================\n",
      "                           coef    std err          t      P>|t|      [0.025      0.975]\n",
      "----------------------------------------------------------------------------------------\n",
      "Intercept               -0.0017      0.000     -4.262      0.000      -0.003      -0.001\n",
      "UC density               0.0003      0.001      0.385      0.700      -0.001       0.002\n",
      "Median revenue           0.0082      0.004      1.911      0.056      -0.000       0.017\n",
      "Interdecile quotient    -0.0175      0.002     -7.098      0.000      -0.022      -0.013\n",
      "Market potential         0.0050      0.001      3.590      0.000       0.002       0.008\n",
      "==============================================================================\n",
      "Omnibus:                      600.090   Durbin-Watson:                   2.147\n",
      "Prob(Omnibus):                  0.000   Jarque-Bera (JB):             9234.076\n",
      "Skew:                          -0.740   Prob(JB):                         0.00\n",
      "Kurtosis:                      12.435   Cond. No.                         12.8\n",
      "==============================================================================\n",
      "\n",
      "Warnings:\n",
      "[1] Standard Errors assume that the covariance matrix of the errors is correctly specified.\n"
     ]
    }
   ],
   "source": [
    "    ## Regressing on interdecile quotient\n",
    "results = sm.GLS(y[\"Interdecile quotient\"], X.loc[y.index]).fit()\n",
    "\n",
    "print(results.summary())"
   ]
  },
  {
   "cell_type": "code",
   "execution_count": 35,
   "metadata": {},
   "outputs": [],
   "source": [
    "### Defining data for regression on local polarisation proxies (ZE2010)\n",
    "\n",
    "    ## Defining endog\n",
    "X = pd.DataFrame(index=pd.MultiIndex.from_product([med_timeseries_ZE2010.columns, range(2009,2017)]))\n",
    "X[\"Intercept\"] = 1\n",
    "\n",
    "X[\"UC density\"] = np.log(dUC_timeseries_ZE2010).stack().swaplevel()\n",
    "X[\"Median revenue\"] = np.log(med_timeseries_ZE2010).stack().swaplevel()\n",
    "X[\"Interdecile quotient\"] = np.log(intQ_timeseries_ZE2010).stack().swaplevel()\n",
    "\n",
    "markpot_ZE2010 = (med_timeseries_ZE2010*dUC_timeseries_ZE2010*area_ZE2010).dot((1/dist_matrix_ZE2010).replace([np.inf, -np.inf], 1))\n",
    "X[\"Market potential\"] = np.log(markpot_ZE2010).stack().swaplevel()\n",
    "\n",
    "X[X.columns[1:]] = X[X.columns[1:]]-X[X.columns[1:]].mean() ### centering all columns but intercept\n",
    "X = X.dropna()\n",
    "    \n",
    "    ## Defining exog\n",
    "y = pd.DataFrame(index=pd.MultiIndex.from_product([med_timeseries_ZE2010.columns, range(2009,2017)]))\n",
    "\n",
    "y[\"UC density\"] = np.log(dUC_timeseries_ZE2010).diff().shift(-1).stack().swaplevel()\n",
    "y[\"Median revenue\"] = np.log(med_timeseries_ZE2010).diff().shift(-1).stack().swaplevel()\n",
    "y[\"Interdecile quotient\"] = np.log(intQ_timeseries_ZE2010).diff().shift(-1).stack().swaplevel()\n",
    "\n",
    "y = y.dropna()"
   ]
  },
  {
   "cell_type": "code",
   "execution_count": 37,
   "metadata": {},
   "outputs": [
    {
     "name": "stdout",
     "output_type": "stream",
     "text": [
      "                            GLS Regression Results                            \n",
      "==============================================================================\n",
      "Dep. Variable:             UC density   R-squared:                       0.056\n",
      "Model:                            GLS   Adj. R-squared:                  0.055\n",
      "Method:                 Least Squares   F-statistic:                     36.30\n",
      "Date:                Thu, 06 Aug 2020   Prob (F-statistic):           1.66e-29\n",
      "Time:                        11:38:27   Log-Likelihood:                 7767.1\n",
      "No. Observations:                2432   AIC:                        -1.552e+04\n",
      "Df Residuals:                    2427   BIC:                        -1.550e+04\n",
      "Df Model:                           4                                         \n",
      "Covariance Type:            nonrobust                                         \n",
      "========================================================================================\n",
      "                           coef    std err          t      P>|t|      [0.025      0.975]\n",
      "----------------------------------------------------------------------------------------\n",
      "Intercept                0.0017      0.000      8.660      0.000       0.001       0.002\n",
      "UC density               0.0028      0.000      8.209      0.000       0.002       0.003\n",
      "Median revenue           0.0079      0.002      3.443      0.001       0.003       0.012\n",
      "Interdecile quotient    -0.0018      0.001     -1.577      0.115      -0.004       0.000\n",
      "Market potential        -0.0012      0.001     -2.171      0.030      -0.002      -0.000\n",
      "==============================================================================\n",
      "Omnibus:                     1564.671   Durbin-Watson:                   1.665\n",
      "Prob(Omnibus):                  0.000   Jarque-Bera (JB):           419360.791\n",
      "Skew:                          -1.896   Prob(JB):                         0.00\n",
      "Kurtosis:                      67.219   Cond. No.                         12.0\n",
      "==============================================================================\n",
      "\n",
      "Warnings:\n",
      "[1] Standard Errors assume that the covariance matrix of the errors is correctly specified.\n"
     ]
    }
   ],
   "source": [
    "    ## Regressing on UC density\n",
    "results = sm.GLS(y[\"UC density\"], X.loc[y.index]).fit()\n",
    "\n",
    "print(results.summary())"
   ]
  },
  {
   "cell_type": "code",
   "execution_count": 38,
   "metadata": {},
   "outputs": [
    {
     "name": "stdout",
     "output_type": "stream",
     "text": [
      "                            GLS Regression Results                            \n",
      "==============================================================================\n",
      "Dep. Variable:         Median revenue   R-squared:                       0.113\n",
      "Model:                            GLS   Adj. R-squared:                  0.112\n",
      "Method:                 Least Squares   F-statistic:                     77.63\n",
      "Date:                Thu, 06 Aug 2020   Prob (F-statistic):           4.90e-62\n",
      "Time:                        11:38:28   Log-Likelihood:                 8341.4\n",
      "No. Observations:                2432   AIC:                        -1.667e+04\n",
      "Df Residuals:                    2427   BIC:                        -1.664e+04\n",
      "Df Model:                           4                                         \n",
      "Covariance Type:            nonrobust                                         \n",
      "========================================================================================\n",
      "                           coef    std err          t      P>|t|      [0.025      0.975]\n",
      "----------------------------------------------------------------------------------------\n",
      "Intercept                0.0188      0.000    117.883      0.000       0.018       0.019\n",
      "UC density               0.0019      0.000      7.010      0.000       0.001       0.002\n",
      "Median revenue          -0.0224      0.002    -12.271      0.000      -0.026      -0.019\n",
      "Interdecile quotient    -0.0066      0.001     -7.252      0.000      -0.008      -0.005\n",
      "Market potential        -0.0029      0.000     -6.372      0.000      -0.004      -0.002\n",
      "==============================================================================\n",
      "Omnibus:                      984.994   Durbin-Watson:                   1.144\n",
      "Prob(Omnibus):                  0.000   Jarque-Bera (JB):            11478.259\n",
      "Skew:                           1.582   Prob(JB):                         0.00\n",
      "Kurtosis:                      13.162   Cond. No.                         12.0\n",
      "==============================================================================\n",
      "\n",
      "Warnings:\n",
      "[1] Standard Errors assume that the covariance matrix of the errors is correctly specified.\n"
     ]
    }
   ],
   "source": [
    "    ## Regressing on med revenue\n",
    "results = sm.GLS(y[\"Median revenue\"], X.loc[y.index]).fit()\n",
    "\n",
    "print(results.summary())"
   ]
  },
  {
   "cell_type": "code",
   "execution_count": 39,
   "metadata": {},
   "outputs": [
    {
     "name": "stdout",
     "output_type": "stream",
     "text": [
      "                             GLS Regression Results                             \n",
      "================================================================================\n",
      "Dep. Variable:     Interdecile quotient   R-squared:                       0.035\n",
      "Model:                              GLS   Adj. R-squared:                  0.034\n",
      "Method:                   Least Squares   F-statistic:                     22.21\n",
      "Date:                  Thu, 06 Aug 2020   Prob (F-statistic):           5.00e-18\n",
      "Time:                          11:38:29   Log-Likelihood:                 5637.1\n",
      "No. Observations:                  2432   AIC:                        -1.126e+04\n",
      "Df Residuals:                      2427   BIC:                        -1.124e+04\n",
      "Df Model:                             4                                         \n",
      "Covariance Type:              nonrobust                                         \n",
      "========================================================================================\n",
      "                           coef    std err          t      P>|t|      [0.025      0.975]\n",
      "----------------------------------------------------------------------------------------\n",
      "Intercept                0.0013      0.000      2.694      0.007       0.000       0.002\n",
      "UC density               0.0014      0.001      1.736      0.083      -0.000       0.003\n",
      "Median revenue           0.0057      0.006      1.020      0.308      -0.005       0.017\n",
      "Interdecile quotient     0.0108      0.003      3.914      0.000       0.005       0.016\n",
      "Market potential         0.0035      0.001      2.582      0.010       0.001       0.006\n",
      "==============================================================================\n",
      "Omnibus:                       63.455   Durbin-Watson:                   2.267\n",
      "Prob(Omnibus):                  0.000   Jarque-Bera (JB):              150.269\n",
      "Skew:                           0.003   Prob(JB):                     2.34e-33\n",
      "Kurtosis:                       4.218   Cond. No.                         12.0\n",
      "==============================================================================\n",
      "\n",
      "Warnings:\n",
      "[1] Standard Errors assume that the covariance matrix of the errors is correctly specified.\n"
     ]
    }
   ],
   "source": [
    "    ## Regressing on interdecile quotient\n",
    "results = sm.GLS(y[\"Interdecile quotient\"], X.loc[y.index]).fit()\n",
    "\n",
    "print(results.summary())"
   ]
  },
  {
   "cell_type": "code",
   "execution_count": null,
   "metadata": {},
   "outputs": [],
   "source": []
  },
  {
   "cell_type": "code",
   "execution_count": null,
   "metadata": {},
   "outputs": [],
   "source": []
  }
 ],
 "metadata": {
  "kernelspec": {
   "display_name": "Python 3",
   "language": "python",
   "name": "python3"
  },
  "language_info": {
   "codemirror_mode": {
    "name": "ipython",
    "version": 3
   },
   "file_extension": ".py",
   "mimetype": "text/x-python",
   "name": "python",
   "nbconvert_exporter": "python",
   "pygments_lexer": "ipython3",
   "version": "3.7.4"
  }
 },
 "nbformat": 4,
 "nbformat_minor": 4
}
