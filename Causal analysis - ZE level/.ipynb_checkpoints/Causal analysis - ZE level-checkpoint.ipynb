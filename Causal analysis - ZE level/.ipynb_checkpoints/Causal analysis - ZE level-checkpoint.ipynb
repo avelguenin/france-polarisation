{
 "cells": [
  {
   "cell_type": "markdown",
   "metadata": {},
   "source": [
    "The purpose of this notebook is to expose the causal structure underlying territorial polarisation in 1980-2020 France through canonical regression methods. The causal models we will discover will help discriminating between numerous qualitative assesments of this dynamics.\n",
    "\n",
    "It is essentially based on the statsmodels library (Seabold, S., & Perktold, J. (2010). Statsmodels: Econometric and Statistical Modeling with Python. Proceedings of the 9th Python in Science Conference, 2010.).\n",
    "\n",
    "In addition, we adapted the SESHAT regression methodology (Turchin, P. (2018). Fitting Dynamic Regression Models to Seshat Data. 35.), which was designed to handle both within- and between-areas interactions in cultural evolution, to adress similar dynamics in economic geography."
   ]
  },
  {
   "cell_type": "code",
   "execution_count": 1,
   "metadata": {},
   "outputs": [],
   "source": [
    "### Importing libraries ###\n",
    "\n",
    "import json\n",
    "import pandas as pd\n",
    "import geopandas as gpd\n",
    "\n",
    "import numpy as np\n",
    "import statsmodels.api as sm"
   ]
  },
  {
   "cell_type": "code",
   "execution_count": 2,
   "metadata": {},
   "outputs": [],
   "source": [
    "### Importing pre-processed data ###\n",
    "\n",
    "ZE1990_geo = gpd.read_file(\"../Data processing/Output/ZE1990_geo.geojson\")\n",
    "ZE1990_geo = ZE1990_geo.set_index(\"ZE1990\")\n",
    "\n",
    "nUC_series_ZE1990 = pd.read_json(\"../Data processing/Output/nUC_series_ZE1990.json\")\n",
    "med_series_ZE1990 = pd.read_json(\"../Data processing/Output/med_series_ZE1990.json\")\n",
    "intQ_series_ZE1990 = pd.read_json(\"../Data processing/Output/intQ_series_ZE1990.json\")\n",
    "\n",
    "ZE2010_geo = gpd.read_file(\"../Data processing/Output/ZE2010_geo.geojson\")\n",
    "ZE2010_geo = ZE2010_geo.set_index(\"ZE2010\")\n",
    "\n",
    "nUC_series_ZE2010 = pd.read_json(\"../Data processing/Output/nUC_series_ZE2010.json\")\n",
    "med_series_ZE2010 = pd.read_json(\"../Data processing/Output/med_series_ZE2010.json\")\n",
    "intQ_series_ZE2010 = pd.read_json(\"../Data processing/Output/intQ_series_ZE2010.json\")"
   ]
  },
  {
   "cell_type": "code",
   "execution_count": 3,
   "metadata": {},
   "outputs": [
    {
     "name": "stdout",
     "output_type": "stream",
     "text": [
      "             1131         1132         1133         1134        1135  \\\n",
      "2001  9284.190446  1933.948612  2591.933812  2736.904097  443.594384   \n",
      "2002  9354.162872  1955.134381  2621.055652  2782.114482  448.106363   \n",
      "2003  9387.471574  1974.917369  2635.698804  2811.161956  450.950915   \n",
      "2004  9390.644190  1988.214836  2653.235597  2839.712892  455.553688   \n",
      "2005  9338.467099  1990.943776  2655.818897  2852.217574  458.199563   \n",
      "2006  9363.664369  1997.379717  2672.398452  2887.039546  459.247325   \n",
      "2007  9604.673795  2049.815323  2761.467738  2996.838759  472.492195   \n",
      "2008  9683.546405  2074.689025  2789.931716  3051.529730  479.239441   \n",
      "\n",
      "             1136        1137        1138        1139        1140  ...  \\\n",
      "2001  2076.902563  879.400280  176.398434  507.919262  250.178194  ...   \n",
      "2002  2101.126843  892.065768  178.289462  510.909171  251.277209  ...   \n",
      "2003  2120.213731  903.858094  179.995646  512.866426  254.060811  ...   \n",
      "2004  2135.292674  914.414125  181.165126  516.032537  255.767617  ...   \n",
      "2005  2144.606755  916.279122  183.238723  518.056098  256.746988  ...   \n",
      "2006  2159.167667  919.606760  183.313173  519.754268  257.249834  ...   \n",
      "2007  2223.240723  944.899139  189.757976  538.650248  264.006640  ...   \n",
      "2008  2251.666922  959.253117  191.902323  549.359894  265.362718  ...   \n",
      "\n",
      "           9362       9363        9364       9403       9411       9412  \\\n",
      "2001  65.319508  25.878846  165.405029   8.762124  18.635182  29.949496   \n",
      "2002  66.477690  26.308899  167.878651   9.199827  18.868240  30.881195   \n",
      "2003  67.064893  26.620596  168.196411   9.421707  19.285067  31.474215   \n",
      "2004  67.925783  26.990307  170.933427   9.622999  19.692943  32.358055   \n",
      "2005  68.070322  27.219532  172.270703   9.429146  19.961638  32.902661   \n",
      "2006  69.353182  27.723738  173.635827   9.321104  20.261951  32.814327   \n",
      "2007  71.225013  28.495604  178.972060   9.705004  20.541719  34.494116   \n",
      "2008  72.893137  29.080452  182.185827  10.038299  21.090998  35.160313   \n",
      "\n",
      "          9414      9415      9416       9417  \n",
      "2001  4.064783  5.877701  8.527806   8.222188  \n",
      "2002  4.107197  6.057759  8.715610   8.845104  \n",
      "2003  4.179615  6.251505  8.959756   8.998044  \n",
      "2004  4.433400  6.949128  9.098037   9.050225  \n",
      "2005  4.505444  7.210431  9.158087   9.125751  \n",
      "2006  4.496672  7.162011  9.479208   9.782139  \n",
      "2007  4.608455  7.421270  9.686211  10.452431  \n",
      "2008  4.685420  7.670451  9.677898  11.114655  \n",
      "\n",
      "[8 rows x 348 columns]\n"
     ]
    }
   ],
   "source": []
  },
  {
   "cell_type": "code",
   "execution_count": null,
   "metadata": {},
   "outputs": [],
   "source": []
  }
 ],
 "metadata": {
  "kernelspec": {
   "display_name": "Python 3",
   "language": "python",
   "name": "python3"
  },
  "language_info": {
   "codemirror_mode": {
    "name": "ipython",
    "version": 3
   },
   "file_extension": ".py",
   "mimetype": "text/x-python",
   "name": "python",
   "nbconvert_exporter": "python",
   "pygments_lexer": "ipython3",
   "version": "3.7.4"
  }
 },
 "nbformat": 4,
 "nbformat_minor": 4
}
