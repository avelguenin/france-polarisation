{
 "cells": [
  {
   "cell_type": "markdown",
   "metadata": {},
   "source": [
    "The purpose of this notebook is to expose the causal structure underlying territorial polarisation in 1980-2020 France through canonical regression methods. The causal models we will discover will help discriminating between numerous qualitative assesments of this dynamics.\n",
    "\n",
    "It is essentially based on the statsmodels library (Seabold, S., & Perktold, J. (2010). Statsmodels: Econometric and Statistical Modeling with Python. Proceedings of the 9th Python in Science Conference, 2010.).\n",
    "\n",
    "In addition, we adapted the SESHAT regression methodology (Turchin, P. (2018). Fitting Dynamic Regression Models to Seshat Data. 35.), which was designed to handle both within- and between-areas interactions in cultural evolution, to adress similar dynamics in economic geography."
   ]
  },
  {
   "cell_type": "code",
   "execution_count": 57,
   "metadata": {},
   "outputs": [],
   "source": [
    "### Importing libraries ###\n",
    "\n",
    "import numpy as np\n",
    "import pandas as pd\n",
    "import json\n",
    "import matplotlib.pyplot as plt\n",
    "\n",
    "import geopandas as gpd\n",
    "import statsmodels.api as sm\n"
   ]
  },
  {
   "cell_type": "code",
   "execution_count": 58,
   "metadata": {},
   "outputs": [],
   "source": [
    "### Importing ZE1990 data ###\n",
    "\n",
    "area_ZE1990 = pd.read_json(\"../Data processing/Output/area_ZE1990.json\", typ=\"series\")\n",
    "dist_matrix_ZE1990 = pd.read_json(\"../Data processing/Output/dist_matrix_ZE1990.json\")\n",
    "\n",
    "dUC_timeseries_ZE1990 = pd.read_json(\"../Data processing/Output/dUC_timeseries_ZE1990.json\")\n",
    "d1_timeseries_ZE1990 = pd.read_json(\"../Data processing/Output/d1_timeseries_ZE1990.json\")\n",
    "med_timeseries_ZE1990 = pd.read_json(\"../Data processing/Output/med_timeseries_ZE1990.json\")\n",
    "d9_timeseries_ZE1990 = pd.read_json(\"../Data processing/Output/d9_timeseries_ZE1990.json\")\n",
    "moy_timeseries_ZE1990 = pd.read_json(\"../Data processing/Output/moy_timeseries_ZE1990.json\")\n",
    "intQ_timeseries_ZE1990 = pd.read_json(\"../Data processing/Output/intQ_timeseries_ZE1990.json\")"
   ]
  },
  {
   "cell_type": "code",
   "execution_count": 59,
   "metadata": {},
   "outputs": [],
   "source": [
    "### Importing ZE2010 data ###\n",
    "\n",
    "area_ZE2010 = pd.read_json(\"../Data processing/Output/area_ZE2010.json\", typ=\"series\")\n",
    "dist_matrix_ZE2010 = pd.read_json(\"../Data processing/Output/dist_matrix_ZE2010.json\")\n",
    "\n",
    "dUC_timeseries_ZE2010 = pd.read_json(\"../Data processing/Output/dUC_timeseries_ZE2010.json\")\n",
    "d1_timeseries_ZE2010 = pd.read_json(\"../Data processing/Output/d1_timeseries_ZE2010.json\")\n",
    "med_timeseries_ZE2010 = pd.read_json(\"../Data processing/Output/med_timeseries_ZE2010.json\")\n",
    "d9_timeseries_ZE2010 = pd.read_json(\"../Data processing/Output/d9_timeseries_ZE2010.json\")\n",
    "## moy_timeseries_ZE2010 = pd.read_json(\"../Data processing/Output/moy_timeseries_ZE2010.json\")\n",
    "intQ_timeseries_ZE2010 = pd.read_json(\"../Data processing/Output/intQ_timeseries_ZE2010.json\")\n",
    "\n",
    "tert_timeseries_ZE2010 = pd.read_json(\"../Data processing/Output/tert_timeseries_ZE2010.json\")\n"
   ]
  },
  {
   "cell_type": "code",
   "execution_count": 60,
   "metadata": {},
   "outputs": [],
   "source": [
    "### Importing other data\n",
    "\n",
    "foreigndebt_timeseries = pd.read_json(\"../Data processing/Output/foreigndebt_timeseries.json\")\n",
    "foreigncapitals_timeseries = pd.read_json(\"../Data processing/Output/foreigncapitals_timeseries.json\")"
   ]
  },
  {
   "cell_type": "markdown",
   "metadata": {},
   "source": [
    "We will below implement a global prediction of polarisation levels from financiarisation and productivity disparities"
   ]
  },
  {
   "cell_type": "code",
   "execution_count": 61,
   "metadata": {},
   "outputs": [],
   "source": [
    "### Extracting D1 and D9 index for ZE1990 and ZE2010 data\n",
    "\n",
    "def D1D9_polarisation(med_timeseries, bottom_timeseries, top_timeseries, D1D9_number):\n",
    "    top_index = med_timeseries.mean().nlargest(D1D9_number).index\n",
    "    bottom_index = med_timeseries.mean().nsmallest(D1D9_number).index\n",
    "    \n",
    "    D1D9_pol = np.log(top_timeseries[top_index]).mean(axis=1) -  np.log(bottom_timeseries[bottom_index]).mean(axis=1)\n",
    "    \n",
    "    return(D1D9_pol)\n",
    "\n",
    "D1D9_number = 25"
   ]
  },
  {
   "cell_type": "code",
   "execution_count": 78,
   "metadata": {},
   "outputs": [
    {
     "name": "stdout",
     "output_type": "stream",
     "text": [
      "                               OLS Regression Results                               \n",
      "====================================================================================\n",
      "Dep. Variable:     Polarisation des revenus   R-squared:                       0.623\n",
      "Model:                                  OLS   Adj. R-squared:                  0.536\n",
      "Method:                       Least Squares   F-statistic:                     7.150\n",
      "Date:                      Sun, 02 Aug 2020   Prob (F-statistic):            0.00442\n",
      "Time:                              13:00:31   Log-Likelihood:                 42.410\n",
      "No. Observations:                        17   AIC:                            -76.82\n",
      "Df Residuals:                            13   BIC:                            -73.49\n",
      "Df Model:                                 3                                         \n",
      "Covariance Type:                  nonrobust                                         \n",
      "==============================================================================================================\n",
      "                                                 coef    std err          t      P>|t|      [0.025      0.975]\n",
      "--------------------------------------------------------------------------------------------------------------\n",
      "Intercept                                      2.7148      0.172     15.745      0.000       2.342       3.087\n",
      "Dette étrangère                               -0.0014      0.001     -1.937      0.075      -0.003       0.000\n",
      "Capitaux étrangers                             0.0016      0.003      0.644      0.531      -0.004       0.007\n",
      "Polarisation de la composition sectorielle    -6.6195      1.478     -4.480      0.001      -9.812      -3.427\n",
      "==============================================================================\n",
      "Omnibus:                        2.045   Durbin-Watson:                   1.861\n",
      "Prob(Omnibus):                  0.360   Jarque-Bera (JB):                0.493\n",
      "Skew:                           0.159   Prob(JB):                        0.782\n",
      "Kurtosis:                       3.770   Cond. No.                     1.93e+04\n",
      "==============================================================================\n",
      "\n",
      "Warnings:\n",
      "[1] Standard Errors assume that the covariance matrix of the errors is correctly specified.\n",
      "[2] The condition number is large, 1.93e+04. This might indicate that there are\n",
      "strong multicollinearity or other numerical problems.\n"
     ]
    },
    {
     "name": "stderr",
     "output_type": "stream",
     "text": [
      "/home/avel/anaconda3/lib/python3.7/site-packages/scipy/stats/stats.py:1450: UserWarning: kurtosistest only valid for n>=20 ... continuing anyway, n=17\n",
      "  \"anyway, n=%i\" % int(n))\n"
     ]
    }
   ],
   "source": [
    "### OLS regression on static data\n",
    "\n",
    "    ## Defining exog\n",
    "X = pd.DataFrame(index = range(1999, 2018))\n",
    "\n",
    "X[\"Intercept\"] = 1\n",
    "X[\"Dette étrangère\"] = foreigndebt_timeseries\n",
    "X[\"Capitaux étrangers\"] = foreigncapitals_timeseries\n",
    "X[\"Polarisation de la composition sectorielle\"] = D1D9_polarisation(med_timeseries_ZE2010, tert_timeseries_ZE2010, tert_timeseries_ZE2010, D1D9_number)\n",
    "\n",
    "    ## Defining endog\n",
    "y = pd.DataFrame(index = range(2001,2018))\n",
    "\n",
    "y[\"Polarisation des revenus\"] = pd.concat([D1D9_polarisation(med_timeseries_ZE1990, d1_timeseries_ZE1990, d9_timeseries_ZE1990, D1D9_number), D1D9_polarisation(med_timeseries_ZE2010, d1_timeseries_ZE2010, d9_timeseries_ZE2010, D1D9_number)])\n",
    "\n",
    "    ## Regressing\n",
    "results = sm.OLS(y, X.loc[y.index]).fit()\n",
    "\n",
    "print(results.summary())"
   ]
  },
  {
   "cell_type": "code",
   "execution_count": 65,
   "metadata": {},
   "outputs": [
    {
     "data": {
      "image/png": "[encoded data removed]",
      "text/plain": [
       "<Figure size 432x288 with 1 Axes>"
      ]
     },
     "metadata": {
      "needs_background": "light"
     },
     "output_type": "display_data"
    }
   ],
   "source": [
    "### Drawing data for static regression\n",
    "\n",
    "fig = plt.figure()\n",
    "\n",
    "plt.plot(X[\"Dette étrangère\"]/X[\"Dette étrangère\"].loc[2005], label=\"Montant de la dette d'État détenus par des capitaux étrangers\")\n",
    "plt.plot(X[\"Capitaux étrangers\"]/X[\"Capitaux étrangers\"].loc[2005], label=\"Montant des parts des entreprises du CAC40 détenus par des capitaux étrangers\")\n",
    "plt.plot(X[\"Polarisation de la composition sectorielle\"]/X[\"Polarisation de la composition sectorielle\"].loc[2005], label=\"Polarisation entre la tertiarisation des \" + str(D1D9_number) + \" ZE les plus (resp. les moins) riches\")\n",
    "plt.plot(y[\"Polarisation des revenus\"]/y[\"Polarisation des revenus\"].loc[2005], label=\"Polarisation entre le d9 (resp. le d1) des \" + str(D1D9_number) + \" ZE les plus (resp. les moins) riches\")\n",
    "\n",
    "plt.legend()\n",
    "\n",
    "plt.savefig(\"Global regression variables.png\")\n",
    "plt.show()"
   ]
  },
  {
   "cell_type": "code",
   "execution_count": 77,
   "metadata": {},
   "outputs": [
    {
     "name": "stdout",
     "output_type": "stream",
     "text": [
      "                                            OLS Regression Results                                           \n",
      "=============================================================================================================\n",
      "Dep. Variable:     Variation annuelle de la polarisation des revenus   R-squared:                       0.482\n",
      "Model:                                                           OLS   Adj. R-squared:                  0.294\n",
      "Method:                                                Least Squares   F-statistic:                     2.562\n",
      "Date:                                               Sun, 02 Aug 2020   Prob (F-statistic):             0.0978\n",
      "Time:                                                       12:59:50   Log-Likelihood:                 39.329\n",
      "No. Observations:                                                 16   AIC:                            -68.66\n",
      "Df Residuals:                                                     11   BIC:                            -64.79\n",
      "Df Model:                                                          4                                         \n",
      "Covariance Type:                                           nonrobust                                         \n",
      "==============================================================================================================\n",
      "                                                 coef    std err          t      P>|t|      [0.025      0.975]\n",
      "--------------------------------------------------------------------------------------------------------------\n",
      "Intercept                                      2.3209      0.847      2.740      0.019       0.456       4.186\n",
      "Dette étrangère                               -0.0023      0.001     -2.508      0.029      -0.004      -0.000\n",
      "Capitaux étrangers                            -0.0010      0.003     -0.360      0.726      -0.007       0.005\n",
      "Polarisation de la composition sectorielle    -7.6097      2.686     -2.834      0.016     -13.521      -1.699\n",
      "Polarisation des revenus                      -0.7152      0.304     -2.356      0.038      -1.383      -0.047\n",
      "==============================================================================\n",
      "Omnibus:                        0.807   Durbin-Watson:                   2.398\n",
      "Prob(Omnibus):                  0.668   Jarque-Bera (JB):                0.761\n",
      "Skew:                           0.315   Prob(JB):                        0.684\n",
      "Kurtosis:                       2.138   Cond. No.                     3.23e+04\n",
      "==============================================================================\n",
      "\n",
      "Warnings:\n",
      "[1] Standard Errors assume that the covariance matrix of the errors is correctly specified.\n",
      "[2] The condition number is large, 3.23e+04. This might indicate that there are\n",
      "strong multicollinearity or other numerical problems.\n"
     ]
    },
    {
     "name": "stderr",
     "output_type": "stream",
     "text": [
      "/home/avel/anaconda3/lib/python3.7/site-packages/scipy/stats/stats.py:1450: UserWarning: kurtosistest only valid for n>=20 ... continuing anyway, n=16\n",
      "  \"anyway, n=%i\" % int(n))\n"
     ]
    }
   ],
   "source": [
    "### OLS regression on dynamic data\n",
    "\n",
    "\n",
    "    ## Defining exog\n",
    "X = pd.DataFrame(index = range(1999, 2018))\n",
    "\n",
    "X[\"Intercept\"] = 1\n",
    "X[\"Dette étrangère\"] = foreigndebt_timeseries\n",
    "X[\"Capitaux étrangers\"] = foreigncapitals_timeseries\n",
    "X[\"Polarisation de la composition sectorielle\"] = D1D9_polarisation(med_timeseries_ZE2010, tert_timeseries_ZE2010, tert_timeseries_ZE2010, D1D9_number)\n",
    "X[\"Polarisation des revenus\"] = pd.concat([D1D9_polarisation(med_timeseries_ZE1990, d1_timeseries_ZE1990, d9_timeseries_ZE1990, D1D9_number), D1D9_polarisation(med_timeseries_ZE2010, d1_timeseries_ZE2010, d9_timeseries_ZE2010, D1D9_number)])\n",
    "\n",
    "X = X.dropna()\n",
    "    ## Defining endog\n",
    "y = pd.DataFrame(index = range(1999,2018))\n",
    "\n",
    "y[\"Variation annuelle de la polarisation des revenus\"] = X[\"Polarisation de la composition sectorielle\"].apply(lambda x: np.log(x)).diff()\n",
    "y = y.shift(-1).dropna()\n",
    "\n",
    "\n",
    "    ## Regressing\n",
    "results = sm.OLS(y, X.loc[y.index]).fit()\n",
    "\n",
    "print(results.summary())"
   ]
  },
  {
   "cell_type": "code",
   "execution_count": null,
   "metadata": {},
   "outputs": [],
   "source": []
  }
 ],
 "metadata": {
  "kernelspec": {
   "display_name": "Python 3",
   "language": "python",
   "name": "python3"
  },
  "language_info": {
   "codemirror_mode": {
    "name": "ipython",
    "version": 3
   },
   "file_extension": ".py",
   "mimetype": "text/x-python",
   "name": "python",
   "nbconvert_exporter": "python",
   "pygments_lexer": "ipython3",
   "version": "3.7.4"
  }
 },
 "nbformat": 4,
 "nbformat_minor": 4
}
