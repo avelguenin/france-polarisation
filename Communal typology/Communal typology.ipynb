{
 "cells": [
  {
   "cell_type": "markdown",
   "metadata": {},
   "source": [
    "This code is developped in the context on my internship with Pablo JENSEN regarding economic polarisation in France during the post-1980 globalisation.\n",
    "\n",
    "The purpose of this notebook is to expose different metrics for measuring economic polarisation (mostly from INSEE data)"
   ]
  },
  {
   "cell_type": "code",
   "execution_count": 1,
   "metadata": {},
   "outputs": [],
   "source": [
    "    # Import libraries\n",
    "import json\n",
    "import pandas as pd\n",
    "import geopandas as gpd\n",
    "\n",
    "import folium\n",
    "import branca.colormap as cm"
   ]
  },
  {
   "cell_type": "code",
   "execution_count": 2,
   "metadata": {},
   "outputs": [],
   "source": [
    "### Defining path ###\n",
    "\n",
    "path = \"/home/avel/Documents/Travail/2019--20 : Stage Jensen/Data analysis/Communal typology/\""
   ]
  },
  {
   "cell_type": "code",
   "execution_count": 17,
   "metadata": {},
   "outputs": [],
   "source": [
    "### Importing & formatting geographic data\n",
    "\n",
    "    ## Importing communal geography data\n",
    "communal_geo = gpd.read_file(path + \"Data/communes-version-simplifiee.geojson\")\n",
    "        \n",
    "    ## Importing ZE composition data\n",
    "with open(path + \"Data/ZE2010.csv\") as ZE_comp_csv :\n",
    "    ZE_comp = pd.read_csv(ZE_comp_csv, header=5, usecols=[0,2], names=[\"Code\",\"ZE2010\"])\n",
    "\n",
    "    ## Importing communa data\n",
    "with open(path + \"Data/typologie_communes_poles.csv\") as communal_type_csv :\n",
    "    type_data = pd.read_csv(communal_type_csv, header=2, usecols=[0,2], names=[\"Code\",\"ZAU\"], )\n",
    "type_data.Code = type_data.Code.map(lambda x: \"0\" + x if len(x) == 4 else x)\n"
   ]
  },
  {
   "cell_type": "code",
   "execution_count": 18,
   "metadata": {},
   "outputs": [],
   "source": [
    "colormap = cm.LinearColormap(\n",
    "    [\"red\",\"orange\",\"orange\",\"yellow\",\"green\",\"blue\"],\n",
    "    vmin = 100,vmax = 400,\n",
    "    index=[111,120,211,222,300,400])"
   ]
  },
  {
   "cell_type": "code",
   "execution_count": 28,
   "metadata": {},
   "outputs": [
    {
     "name": "stdout",
     "output_type": "stream",
     "text": [
      "        Code  ZAU\n",
      "0      01001  120\n",
      "1      01002  112\n",
      "2      01004  112\n",
      "3      01005  112\n",
      "4      01006  300\n",
      "...      ...  ...\n",
      "36653  97613  112\n",
      "36654  97614  112\n",
      "36655  97615  400\n",
      "36656  97616  112\n",
      "36657  97617  112\n",
      "\n",
      "[36658 rows x 2 columns]\n"
     ]
    }
   ],
   "source": [
    "print(type_data)"
   ]
  },
  {
   "cell_type": "code",
   "execution_count": 30,
   "metadata": {},
   "outputs": [],
   "source": [
    "### Drawing TYPE map\n",
    "\n",
    "m = folium.Map(\n",
    "    location=[47,2],\n",
    "    zoom_start=6,\n",
    "    tiles=\"Stamen Toner\"\n",
    "    )\n",
    "\n",
    "folium.Choropleth(\n",
    "    communal_geo.to_json(),\n",
    "    data = type_data,\n",
    "    key_on = \"feature.properties.code\",\n",
    "    columns = [\"Code\",\"ZAU\"],\n",
    "    fill_color='PuRd',\n",
    "    legend_name='Typologie ZAU communale',\n",
    "    ).add_to(m)\n",
    "\n",
    "m.save(\"Typologie ZAU communale.html\")"
   ]
  },
  {
   "cell_type": "code",
   "execution_count": null,
   "metadata": {},
   "outputs": [],
   "source": []
  }
 ],
 "metadata": {
  "kernelspec": {
   "display_name": "Python 3",
   "language": "python",
   "name": "python3"
  },
  "language_info": {
   "codemirror_mode": {
    "name": "ipython",
    "version": 3
   },
   "file_extension": ".py",
   "mimetype": "text/x-python",
   "name": "python",
   "nbconvert_exporter": "python",
   "pygments_lexer": "ipython3",
   "version": "3.7.4"
  }
 },
 "nbformat": 4,
 "nbformat_minor": 4
}
