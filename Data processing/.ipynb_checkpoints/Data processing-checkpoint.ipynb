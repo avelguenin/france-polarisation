{
 "cells": [
  {
   "cell_type": "markdown",
   "metadata": {},
   "source": [
    "This notebook is dedicated to the extraction and pre-processing of relevant data for the cartography and dynamic analysis of territorial polarisation in 1980-2020 France. "
   ]
  },
  {
   "cell_type": "code",
   "execution_count": 1,
   "metadata": {},
   "outputs": [],
   "source": [
    "### Importing libraries ###\n",
    "\n",
    "import numpy as np\n",
    "import json\n",
    "import pandas as pd\n",
    "import geopandas as gpd\n",
    "import datetime"
   ]
  },
  {
   "cell_type": "code",
   "execution_count": 2,
   "metadata": {},
   "outputs": [],
   "source": [
    "### Importing communal data ###\n",
    "\n",
    "communal_geo = gpd.read_file(\"Raw data/communes-version-simplifiee.geojson\")"
   ]
  },
  {
   "cell_type": "code",
   "execution_count": 3,
   "metadata": {},
   "outputs": [],
   "source": [
    "### Building & exporting ZE1990 geography ###\n",
    "\n",
    "with open(\"Raw data/ZE1990.csv\") as ZE1990_comp_csv :\n",
    "    ZE1990_comp = pd.read_csv(ZE1990_comp_csv, header=1, usecols=[0,4], names=[\"Code\",\"ZE1990\"])\n",
    "\n",
    "ZE1990_geo = communal_geo.merge(ZE1990_comp,right_on=\"Code\",left_on=\"code\")\n",
    "ZE1990_geo = ZE1990_geo[[\"ZE1990\",\"geometry\"]]\n",
    "ZE1990_geo = ZE1990_geo[ZE1990_geo.geometry.notnull()]\n",
    "ZE1990_geo = ZE1990_geo.dissolve(\"ZE1990\")\n",
    "ZE1990_geo = ZE1990_geo.reset_index()\n",
    "ZE1990_geo = ZE1990_geo.to_crs({'init': 'epsg:3857'})\n",
    "\n",
    "    ## Export\n",
    "ZE1990_geo.to_file(\"Output/ZE1990_geo.geojson\", driver=\"GeoJSON\", index = \"ZE1990\")\n",
    "\n",
    "    ## Setting index\n",
    "ZE1990_geo = ZE1990_geo.set_index(\"ZE1990\")"
   ]
  },
  {
   "cell_type": "code",
   "execution_count": 4,
   "metadata": {},
   "outputs": [],
   "source": [
    "### Building & exporting ZE2010 geography ###\n",
    "    \n",
    "with open(\"Raw data/ZE2010.csv\") as ZE2010_comp_csv :\n",
    "    ZE2010_comp = pd.read_csv(ZE2010_comp_csv, header=5, usecols=[0,2], names=[\"Code\",\"ZE2010\"])\n",
    "\n",
    "ZE2010_geo = communal_geo.merge(ZE2010_comp,right_on=\"Code\",left_on=\"code\")\n",
    "ZE2010_geo = ZE2010_geo[[\"ZE2010\",\"geometry\"]]\n",
    "ZE2010_geo = ZE2010_geo[ZE2010_geo.geometry.notnull()]\n",
    "ZE2010_geo = ZE2010_geo.dissolve(\"ZE2010\")\n",
    "ZE2010_geo = ZE2010_geo.reset_index()\n",
    "ZE2010_geo = ZE2010_geo.to_crs({'init': 'epsg:3857'})\n",
    "\n",
    "    ## Export\n",
    "ZE2010_geo.to_file(\"Output/ZE2010_geo.geojson\", driver=\"GeoJSON\")\n",
    "\n",
    "    ## Setting index\n",
    "ZE2010_geo = ZE2010_geo.set_index(\"ZE2010\")"
   ]
  },
  {
   "cell_type": "code",
   "execution_count": 5,
   "metadata": {},
   "outputs": [],
   "source": [
    "### Building & exporting distance matrix for ZE1990\n",
    "\n",
    "dist_matrix_ZE1990 = pd.DataFrame(columns=ZE1990_geo.index, index=ZE1990_geo.index)\n",
    "dist_matrix_ZE1990 = dist_matrix_ZE1990.apply(lambda x: ZE1990_geo.geometry.centroid.distance(ZE1990_geo.loc[x.name].geometry.centroid)/1000)\n",
    "dist_matrix_ZE1990.to_json(\"Output/dist_matrix_ZE1990.json\")"
   ]
  },
  {
   "cell_type": "code",
   "execution_count": 6,
   "metadata": {},
   "outputs": [],
   "source": [
    "### Building & exporting distance matrix for ZE2010\n",
    "\n",
    "dist_matrix_ZE2010 = pd.DataFrame(columns=ZE2010_geo.index, index=ZE2010_geo.index)\n",
    "dist_matrix_ZE2010 = dist_matrix_ZE2010.apply(lambda x: ZE2010_geo.geometry.centroid.distance(ZE2010_geo.loc[x.name].geometry.centroid)/1000)\n",
    "dist_matrix_ZE2010.to_json(\"Output/dist_matrix_ZE2010.json\")"
   ]
  },
  {
   "cell_type": "code",
   "execution_count": 7,
   "metadata": {},
   "outputs": [],
   "source": [
    "### Building & exporting timeseries from 2001 to 2008\n",
    " \n",
    "dates = range(2001,2009)\n",
    "\n",
    "nUC_timeseries_ZE1990 = pd.DataFrame(columns = ZE1990_geo.index, index=dates)\n",
    "med_timeseries_ZE1990 = pd.DataFrame(columns = ZE1990_geo.index, index=dates)\n",
    "intQ_timeseries_ZE1990 = pd.DataFrame(columns = ZE1990_geo.index, index=dates)\n",
    "\n",
    "for i in dates:\n",
    "    with open(\"Raw data/FILO\" + str(i) + \"_DEC_ZE1990.csv\") as ZE_revenue_csv :\n",
    "\n",
    "        ## load from 2001 to 2006        \n",
    "        if i in range(2001,2007):\n",
    "            ZE_data = pd.read_csv(ZE_revenue_csv, header = 6, usecols=[0,5,7,18], names = [\"ZE1990\",\"nUC\",\"med\",\"intQ\"])\n",
    "\n",
    "        ## load from 2007 to 2008\n",
    "        elif i in range(2007,2009):\n",
    "            ZE_data = pd.read_csv(ZE_revenue_csv, header = 6, usecols=[0,3,5,16], names = [\"ZE1990\",\"nUC\",\"med\",\"intQ\"])\n",
    "            \n",
    "        ZE_data = ZE_data.set_index(\"ZE1990\")        \n",
    "        \n",
    "        nUC_timeseries_ZE1990.loc[i]=ZE_data[\"nUC\"]\n",
    "        med_timeseries_ZE1990.loc[i]=ZE_data[\"med\"]\n",
    "        intQ_timeseries_ZE1990.loc[i]=ZE_data[\"intQ\"]\n",
    "                \n",
    "nUC_timeseries_ZE1990.to_json(\"Output/nUC_timeseries_ZE1990.json\")\n",
    "med_timeseries_ZE1990.to_json(\"Output/med_timeseries_ZE1990.json\")\n",
    "intQ_timeseries_ZE1990.to_json(\"Output/intQ_timeseries_ZE1990.json\")"
   ]
  },
  {
   "cell_type": "code",
   "execution_count": 8,
   "metadata": {},
   "outputs": [],
   "source": [
    "### Building & exporting timeseries from 2009 to 2016\n",
    " \n",
    "dates = range(2009,2017)\n",
    "\n",
    "nUC_timeseries_ZE2010 = pd.DataFrame(columns = ZE2010_geo.index, index=dates)\n",
    "med_timeseries_ZE2010 = pd.DataFrame(columns = ZE2010_geo.index, index=dates)\n",
    "intQ_timeseries_ZE2010 = pd.DataFrame(columns = ZE2010_geo.index, index=dates)\n",
    "\n",
    "\n",
    "for i in dates:\n",
    "    with open(\"Raw data/FILO\" + str(i) + \"_DEC_ZE2010.csv\") as ZE_revenue_csv :\n",
    "        \n",
    "        ## load from 2009 to 2011        \n",
    "        if i in range(2009,2012):\n",
    "            ZE_data = pd.read_csv(ZE_revenue_csv, header = 6, usecols=[0,3,5,16], names = [\"ZE2010\",\"nUC\",\"med\",\"intQ\"])\n",
    "        \n",
    "        ## load from 2012 to 2016\n",
    "        elif i in range(2012,2017):\n",
    "            ZE_data = pd.read_csv(ZE_revenue_csv, header = 5, usecols=[0,4,7,18], names = [\"ZE2010\",\"nUC\",\"med\",\"intQ\"])\n",
    "\n",
    "        ZE_data = ZE_data.set_index(\"ZE2010\")\n",
    "\n",
    "        nUC_timeseries_ZE2010.loc[i]=ZE_data[\"nUC\"]\n",
    "        med_timeseries_ZE2010.loc[i]=ZE_data[\"med\"]\n",
    "        intQ_timeseries_ZE2010.loc[i]=ZE_data[\"intQ\"]\n",
    "\n",
    "nUC_timeseries_ZE2010.to_json(\"Output/nUC_timeseries_ZE2010.json\")\n",
    "med_timeseries_ZE2010.to_json(\"Output/med_timeseries_ZE2010.json\")\n",
    "intQ_timeseries_ZE2010.to_json(\"Output/intQ_timeseries_ZE2010.json\")"
   ]
  },
  {
   "cell_type": "code",
   "execution_count": 9,
   "metadata": {},
   "outputs": [],
   "source": [
    "### Building & exporting growthseries from 2001 to 2008\n",
    "\n",
    "nUC_growthseries_ZE1990 = nUC_timeseries_ZE1990.apply(lambda x: x/x.shift(1)).dropna().applymap(lambda x: np.log(x))\n",
    "med_growthseries_ZE1990 = med_timeseries_ZE1990.apply(lambda x: x/x.shift(1)).dropna().applymap(lambda x: np.log(x))\n",
    "intQ_growthseries_ZE1990 = intQ_timeseries_ZE1990.apply(lambda x: x/x.shift(1)).dropna().applymap(lambda x: np.log(x))\n",
    "\n",
    "nUC_growthseries_ZE1990.to_json(\"Output/nUC_growthseries_ZE1990.json\")\n",
    "med_growthseries_ZE1990.to_json(\"Output/med_growthseries_ZE1990.json\")\n",
    "intQ_growthseries_ZE1990.to_json(\"Output/intQ_growthseries_ZE1990.json\")\n",
    "\n"
   ]
  },
  {
   "cell_type": "code",
   "execution_count": 10,
   "metadata": {},
   "outputs": [],
   "source": [
    "### Building & exporting growthseries from 2009 to 2019\n",
    "\n",
    "nUC_growthseries_ZE2010 = nUC_timeseries_ZE2010.apply(lambda x: x/x.shift(1)).dropna().applymap(lambda x: np.log(x))\n",
    "med_growthseries_ZE2010 = med_timeseries_ZE2010.apply(lambda x: x/x.shift(1)).dropna().applymap(lambda x: np.log(x))\n",
    "intQ_growthseries_ZE2010 = intQ_timeseries_ZE2010.apply(lambda x: x/x.shift(1)).dropna().applymap(lambda x: np.log(x))\n",
    "\n",
    "nUC_growthseries_ZE2010.to_json(\"Output/nUC_growthseries_ZE2010.json\")\n",
    "med_growthseries_ZE2010.to_json(\"Output/med_growthseries_ZE2010.json\")\n",
    "intQ_growthseries_ZE2010.to_json(\"Output/intQ_growthseries_ZE2010.json\")"
   ]
  },
  {
   "cell_type": "code",
   "execution_count": null,
   "metadata": {},
   "outputs": [],
   "source": []
  }
 ],
 "metadata": {
  "kernelspec": {
   "display_name": "Python 3",
   "language": "python",
   "name": "python3"
  },
  "language_info": {
   "codemirror_mode": {
    "name": "ipython",
    "version": 3
   },
   "file_extension": ".py",
   "mimetype": "text/x-python",
   "name": "python",
   "nbconvert_exporter": "python",
   "pygments_lexer": "ipython3",
   "version": "3.7.4"
  }
 },
 "nbformat": 4,
 "nbformat_minor": 4
}
