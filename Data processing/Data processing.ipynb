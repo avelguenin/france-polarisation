{
 "cells": [
  {
   "cell_type": "markdown",
   "metadata": {},
   "source": [
    "This notebook is dedicated to the extraction and pre-processing of relevant data for the cartography and dynamic analysis of territorial polarisation in 1980-2020 France. "
   ]
  },
  {
   "cell_type": "code",
   "execution_count": 1,
   "metadata": {},
   "outputs": [],
   "source": [
    "### Importing libraries ###\n",
    "\n",
    "import numpy as np\n",
    "import json\n",
    "import pandas as pd\n",
    "import geopandas as gpd\n",
    "import datetime"
   ]
  },
  {
   "cell_type": "code",
   "execution_count": 2,
   "metadata": {},
   "outputs": [],
   "source": [
    "### Importing communal geo data ###\n",
    "\n",
    "communal_geo = gpd.read_file(\"Raw data/communes-version-simplifiee.geojson\")"
   ]
  },
  {
   "cell_type": "code",
   "execution_count": 3,
   "metadata": {},
   "outputs": [],
   "source": [
    "### Building & exporting ZE1990 geography ###\n",
    "\n",
    "with open(\"Raw data/ZE1990_comp.csv\") as ZE1990_comp_csv :\n",
    "    ZE1990_comp = pd.read_csv(ZE1990_comp_csv, header=1, usecols=[0,4], names=[\"Code\",\"ZE1990\"])\n",
    "\n",
    "ZE1990_geo = communal_geo.merge(ZE1990_comp,right_on=\"Code\",left_on=\"code\")\n",
    "ZE1990_geo = ZE1990_geo[[\"ZE1990\",\"geometry\"]]\n",
    "ZE1990_geo = ZE1990_geo[ZE1990_geo.geometry.notnull()]\n",
    "ZE1990_geo = ZE1990_geo.dissolve(\"ZE1990\")\n",
    "ZE1990_geo = ZE1990_geo.reset_index()\n",
    "ZE1990_geo = ZE1990_geo.to_crs({'init': 'epsg:3857'})\n",
    "\n",
    "    ## Export\n",
    "ZE1990_geo.to_file(\"Output/ZE1990_geo.geojson\", driver=\"GeoJSON\", index = \"ZE1990\")\n",
    "\n",
    "    ## Setting index\n",
    "ZE1990_geo = ZE1990_geo.set_index(\"ZE1990\")"
   ]
  },
  {
   "cell_type": "code",
   "execution_count": 4,
   "metadata": {},
   "outputs": [],
   "source": [
    "### Building & exporting ZE2010 geography ###\n",
    "    \n",
    "with open(\"Raw data/ZE2010_comp.csv\") as ZE2010_comp_csv :\n",
    "    ZE2010_comp = pd.read_csv(ZE2010_comp_csv, header=5, usecols=[0,2], names=[\"Code\",\"ZE2010\"])\n",
    "\n",
    "ZE2010_geo = communal_geo.merge(ZE2010_comp,right_on=\"Code\",left_on=\"code\")\n",
    "ZE2010_geo = ZE2010_geo[[\"ZE2010\",\"geometry\"]]\n",
    "ZE2010_geo = ZE2010_geo[ZE2010_geo.geometry.notnull()]\n",
    "ZE2010_geo = ZE2010_geo.dissolve(\"ZE2010\")\n",
    "ZE2010_geo = ZE2010_geo.reset_index()\n",
    "ZE2010_geo = ZE2010_geo.to_crs({'init': 'epsg:3857'})\n",
    "\n",
    "    ## Export\n",
    "ZE2010_geo.to_file(\"Output/ZE2010_geo.geojson\", driver=\"GeoJSON\")\n",
    "\n",
    "    ## Setting index\n",
    "ZE2010_geo = ZE2010_geo.set_index(\"ZE2010\")"
   ]
  },
  {
   "cell_type": "code",
   "execution_count": 5,
   "metadata": {},
   "outputs": [
    {
     "name": "stdout",
     "output_type": "stream",
     "text": [
      "{'init': 'epsg:3857'}\n"
     ]
    }
   ],
   "source": [
    "print(ZE1990_geo.crs)"
   ]
  },
  {
   "cell_type": "markdown",
   "metadata": {},
   "source": [
    "Coordinate system is a Mercator projection. As the information we need is summarised in the relative distance/areas of ZE, and France is latitudinally small, I am going to approximate this measures to meters."
   ]
  },
  {
   "cell_type": "code",
   "execution_count": 6,
   "metadata": {},
   "outputs": [],
   "source": [
    "### Building & exporting geographical data for ZE1990\n",
    "\n",
    "area_ZE1990 = ZE1990_geo.geometry.area/10**6\n",
    "area_ZE1990.to_json(\"Output/area_ZE1990.json\")\n",
    "\n",
    "dist_matrix_ZE1990 = pd.DataFrame(columns=ZE1990_geo.index, index=ZE1990_geo.index)\n",
    "dist_matrix_ZE1990 = dist_matrix_ZE1990.apply(lambda x: ZE1990_geo.geometry.centroid.distance(ZE1990_geo.loc[x.name].geometry.centroid)/10**3)\n",
    "dist_matrix_ZE1990.to_json(\"Output/dist_matrix_ZE1990.json\")\n"
   ]
  },
  {
   "cell_type": "code",
   "execution_count": 7,
   "metadata": {},
   "outputs": [],
   "source": [
    "### Building & exporting distance matrix for ZE2010\n",
    "\n",
    "area_ZE2010 = ZE2010_geo.geometry.area/10**6\n",
    "area_ZE2010.to_json(\"Output/area_ZE2010.json\")\n",
    "\n",
    "dist_matrix_ZE2010 = pd.DataFrame(columns=ZE2010_geo.index, index=ZE2010_geo.index)\n",
    "dist_matrix_ZE2010 = dist_matrix_ZE2010.apply(lambda x: ZE2010_geo.geometry.centroid.distance(ZE2010_geo.loc[x.name].geometry.centroid)/10**3)\n",
    "dist_matrix_ZE2010.to_json(\"Output/dist_matrix_ZE2010.json\")\n"
   ]
  },
  {
   "cell_type": "code",
   "execution_count": 8,
   "metadata": {},
   "outputs": [
    {
     "name": "stdout",
     "output_type": "stream",
     "text": [
      "ZE1990\n",
      "1131     244.907819\n",
      "1132     890.062606\n",
      "1133     322.590612\n",
      "1134     102.842606\n",
      "1135    1923.896535\n",
      "           ...     \n",
      "9412    2481.469872\n",
      "9414    2563.220393\n",
      "9415    2005.960848\n",
      "9416    2267.591032\n",
      "9417     789.922325\n",
      "Length: 348, dtype: float64\n"
     ]
    }
   ],
   "source": [
    "print(area_ZE1990)"
   ]
  },
  {
   "cell_type": "code",
   "execution_count": 9,
   "metadata": {},
   "outputs": [],
   "source": [
    "### Building & exporting FILO timeseries from 2001 to 2008\n",
    " \n",
    "dates = range(2001,2009)\n",
    "\n",
    "dUC_timeseries_ZE1990 = pd.DataFrame(columns = ZE1990_geo.index, index=dates)\n",
    "med_timeseries_ZE1990 = pd.DataFrame(columns = ZE1990_geo.index, index=dates)\n",
    "d1_timeseries_ZE1990 = pd.DataFrame(columns = ZE1990_geo.index, index=dates)\n",
    "d9_timeseries_ZE1990 = pd.DataFrame(columns = ZE1990_geo.index, index=dates)\n",
    "intQ_timeseries_ZE1990 = pd.DataFrame(columns = ZE1990_geo.index, index=dates)\n",
    "moy_timeseries_ZE1990 = pd.DataFrame(columns = ZE1990_geo.index, index=dates)\n",
    "\n",
    "for i in dates:\n",
    "    with open(\"Raw data/FILOSOFI - Revenus déclarés par ZE1990 - \" + str(i) + \".csv\") as ZE_revenue_csv :\n",
    "\n",
    "        ## load from 2001 to 2006        \n",
    "        if i in range(2001,2007):\n",
    "            ZE_data = pd.read_csv(ZE_revenue_csv, header = 6, usecols=[0,5,7,10,17,18,20], names = [\"ZE1990\",\"nUC\",\"med\",\"d1\",\"d9\",\"intQ\",\"moy\"])\n",
    "\n",
    "        ## load from 2007 to 2008\n",
    "        elif i in range(2007,2009):\n",
    "            ZE_data = pd.read_csv(ZE_revenue_csv, header = 6, usecols=[0,3,5,8,15,16,18], names = [\"ZE1990\",\"nUC\",\"med\",\"d1\",\"d9\",\"intQ\",\"moy\"])\n",
    "            \n",
    "        ZE_data = ZE_data.set_index(\"ZE1990\")        \n",
    "        \n",
    "        dUC_timeseries_ZE1990.loc[i]=ZE_data[\"nUC\"]/area_ZE1990\n",
    "        med_timeseries_ZE1990.loc[i]=ZE_data[\"med\"]\n",
    "        d1_timeseries_ZE1990.loc[i]=ZE_data[\"d1\"]\n",
    "        d9_timeseries_ZE1990.loc[i]=ZE_data[\"d9\"]\n",
    "        intQ_timeseries_ZE1990.loc[i]=ZE_data[\"intQ\"]\n",
    "        moy_timeseries_ZE1990.loc[i]=ZE_data[\"moy\"]\n",
    "                \n",
    "dUC_timeseries_ZE1990.to_json(\"Output/dUC_timeseries_ZE1990.json\")\n",
    "med_timeseries_ZE1990.to_json(\"Output/med_timeseries_ZE1990.json\")\n",
    "d1_timeseries_ZE1990.to_json(\"Output/d1_timeseries_ZE1990.json\")\n",
    "d9_timeseries_ZE1990.to_json(\"Output/d9_timeseries_ZE1990.json\")\n",
    "intQ_timeseries_ZE1990.to_json(\"Output/intQ_timeseries_ZE1990.json\")\n",
    "moy_timeseries_ZE1990.to_json(\"Output/moy_timeseries_ZE1990.json\")\n"
   ]
  },
  {
   "cell_type": "code",
   "execution_count": 10,
   "metadata": {},
   "outputs": [],
   "source": [
    "### Building & exporting FILO timeseries from 2009 to 2016\n",
    " \n",
    "dates = range(2009,2018)\n",
    "\n",
    "dUC_timeseries_ZE2010 = pd.DataFrame(columns = ZE2010_geo.index, index=dates)\n",
    "med_timeseries_ZE2010 = pd.DataFrame(columns = ZE2010_geo.index, index=dates)\n",
    "d1_timeseries_ZE2010 = pd.DataFrame(columns = ZE2010_geo.index, index=dates)\n",
    "d9_timeseries_ZE2010 = pd.DataFrame(columns = ZE2010_geo.index, index=dates)\n",
    "intQ_timeseries_ZE2010 = pd.DataFrame(columns = ZE2010_geo.index, index=dates)\n",
    "## moy_timeseries_ZE2010 = pd.DataFrame(columns = ZE2010_geo.index, index=dates)\n",
    "\n",
    "\n",
    "for i in dates:\n",
    "    with open(\"Raw data/FILOSOFI - Revenus déclarés par ZE2010 - \" + str(i) + \".csv\") as ZE_revenue_csv :\n",
    "        \n",
    "        ## load from 2009 to 2011        \n",
    "        if i in range(2009,2012):\n",
    "            ZE_data = pd.read_csv(ZE_revenue_csv, header = 6, usecols=[0,3,5,8,15,16,18], names = [\"ZE2010\",\"nUC\",\"med\",\"d1\",\"d9\",\"intQ\",\"moy\"])\n",
    "        \n",
    "        ## load from 2012 to 2016\n",
    "        elif i in range(2012,2018):\n",
    "            ZE_data = pd.read_csv(ZE_revenue_csv, header = 5, usecols=[0,4,7,10,17,18], names = [\"ZE2010\",\"nUC\",\"med\",\"d1\",\"d9\",\"intQ\"])\n",
    "\n",
    "        ZE_data = ZE_data.set_index(\"ZE2010\")\n",
    "\n",
    "        dUC_timeseries_ZE2010.loc[i]=ZE_data[\"nUC\"]/area_ZE2010\n",
    "        med_timeseries_ZE2010.loc[i]=ZE_data[\"med\"]\n",
    "        d1_timeseries_ZE2010.loc[i]=ZE_data[\"d1\"]\n",
    "        d9_timeseries_ZE2010.loc[i]=ZE_data[\"d9\"]\n",
    "        intQ_timeseries_ZE2010.loc[i]=ZE_data[\"intQ\"]\n",
    "##        moy_timeseries_ZE2010.loc[i]=ZE_data[\"moy\"]\n",
    "\n",
    "        \n",
    "        \n",
    "dUC_timeseries_ZE2010.to_json(\"Output/dUC_timeseries_ZE2010.json\")\n",
    "med_timeseries_ZE2010.to_json(\"Output/med_timeseries_ZE2010.json\")\n",
    "d1_timeseries_ZE2010.to_json(\"Output/d1_timeseries_ZE2010.json\")\n",
    "d9_timeseries_ZE2010.to_json(\"Output/d9_timeseries_ZE2010.json\")\n",
    "intQ_timeseries_ZE2010.to_json(\"Output/intQ_timeseries_ZE2010.json\")\n",
    "##moy_timeseries_ZE2010.to_json(\"Output/moy_timeseries_ZE2010.json\")"
   ]
  },
  {
   "cell_type": "code",
   "execution_count": 11,
   "metadata": {},
   "outputs": [],
   "source": [
    "### Building sectorial composition timeseries\n",
    "\n",
    "with open(\"Raw data/ESTEL - emploi sectoriel par ZE - 1998 à 2017.csv\") as sectcomp_csv:\n",
    "    sectcomp_data = pd.read_csv(sectcomp_csv, header=5)\n",
    "    sectcomp_data = sectcomp_data.drop(sectcomp_data[sectcomp_data[\"Activite\"] == \"TT-Total\"].index)\n",
    "\n",
    "with open(\"Raw data/ESTEL - emploi non salarié par ZE - 1998 à 2017.csv\") as nonsalcomp_csv:\n",
    "    nonsalcomp_data = pd.read_csv(nonsalcomp_csv, header=5)\n",
    "    nonsalcomp_data[\"Activite\"] = \"NS-Non salarie\"\n",
    "    \n",
    "sectcomp_timeseries_ZE2010 = pd.concat([sectcomp_data, nonsalcomp_data], sort=True)\n",
    "\n",
    "    ## Setting index structure and format\n",
    "sectcomp_timeseries_ZE2010[\"ZE2010\"] = sectcomp_timeseries_ZE2010[\"Zone_emploi\"].apply(lambda x: int(str(x)[0:4]))\n",
    "sectcomp_timeseries_ZE2010 = sectcomp_timeseries_ZE2010.drop([\"Region\", \"Zone_emploi\"], axis=1)\n",
    "sectcomp_timeseries_ZE2010 = sectcomp_timeseries_ZE2010.set_index([\"ZE2010\", \"Activite\"]).sort_index()\n",
    "sectcomp_timeseries_ZE2010 = sectcomp_timeseries_ZE2010.T\n",
    "sectcomp_timeseries_ZE2010.index = sectcomp_timeseries_ZE2010.index.astype(int)\n",
    "\n",
    "    ## Formatting and normalising\n",
    "sectcomp_timeseries_ZE2010 = sectcomp_timeseries_ZE2010.applymap(lambda x: int(str(x).replace(\",\", \"\")))\n",
    "sectcomp_timeseries_ZE2010 = sectcomp_timeseries_ZE2010/sectcomp_timeseries_ZE2010.groupby(level=0, axis=1).sum()\n"
   ]
  },
  {
   "cell_type": "code",
   "execution_count": 12,
   "metadata": {},
   "outputs": [],
   "source": [
    "### Building and exporting tertiarisation index timeseries\n",
    "\n",
    "tert_timeseries_ZE2010 = sectcomp_timeseries_ZE2010.xs(\"GU-Tertiaire marchand\", level=\"Activite\", axis=1) + sectcomp_timeseries_ZE2010.xs(\"OQ-Tertiaire non marchand\", level=\"Activite\", axis=1)\n",
    "tert_timeseries_ZE2010.to_json(\"Output/tert_timeseries_ZE2010.json\")"
   ]
  },
  {
   "cell_type": "code",
   "execution_count": 13,
   "metadata": {},
   "outputs": [],
   "source": [
    "### Building & exporting fonctional timeseries from 2001 to 2008\n",
    "\n",
    "dates = [1999, 2006]\n",
    "\n",
    "emp_timeseries_ZE1990 = pd.DataFrame(columns = ZE1990_geo.index, index=dates)\n",
    "fonc_timeseries_ZE1990 = pd.DataFrame(columns = ZE1990_geo.index, index=dates)\n",
    "\n",
    "for i in dates:\n",
    "    with open(\"Raw data/Analyse fonctionnelle - Données communales - \" + str(i) + \".csv\") as communal_fonc_csv :\n",
    "        communal_fonc = pd.read_csv(communal_fonc_csv, header = 10, usecols = [0,4,25], names = [\"Code\", \"Employment\",\"CFM\"], dtype = str)        \n",
    "\n",
    "        communal_fonc = communal_fonc.merge(ZE1990_comp,on=\"Code\")\n",
    "        communal_fonc = communal_fonc.drop(\"Code\", axis=1)\n",
    "        \n",
    "        communal_fonc[[\"Employment\",\"CFM\"]] = communal_fonc[[\"Employment\",\"CFM\"]].apply(pd.to_numeric, errors=\"coerce\")        \n",
    "        communal_fonc = communal_fonc.groupby([\"ZE1990\"]).sum()\n",
    "        \n",
    "        emp_timeseries_ZE1990.loc[i] = communal_fonc[\"Employment\"]\n",
    "        fonc_timeseries_ZE1990.loc[i] = communal_fonc[\"CFM\"]\n",
    "        \n",
    "emp_timeseries_ZE1990.to_json(\"Output/emp_timeseries_ZE1990.json\")\n",
    "fonc_timeseries_ZE1990.to_json(\"Output/fonc_timeseries_ZE1990.json\")"
   ]
  },
  {
   "cell_type": "code",
   "execution_count": 14,
   "metadata": {},
   "outputs": [],
   "source": [
    "### Building & exporting fonctionnal timeseries from 2009 to 2016\n",
    "\n",
    "dates = [2011, 2016]\n",
    "\n",
    "emp_timeseries_ZE2010 = pd.DataFrame(columns = ZE2010_geo.index, index=dates)\n",
    "fonc_timeseries_ZE2010 = pd.DataFrame(columns = ZE2010_geo.index, index=dates)\n",
    "\n",
    "for i in dates:\n",
    "    with open(\"Raw data/Analyse fonctionnelle - Données communales - \" + str(i) + \".csv\") as communal_fonc_csv :\n",
    "        communal_fonc = pd.read_csv(communal_fonc_csv, header = 10, usecols = [0,4,25], names = [\"Code\", \"Employment\",\"CFM\"], dtype = str)        \n",
    "\n",
    "        communal_fonc = communal_fonc.merge(ZE2010_comp,on=\"Code\")\n",
    "        communal_fonc = communal_fonc.drop(\"Code\", axis=1)\n",
    "\n",
    "        communal_fonc[[\"Employment\",\"CFM\"]] = communal_fonc[[\"Employment\",\"CFM\"]].apply(pd.to_numeric, errors=\"coerce\")        \n",
    "        communal_fonc = communal_fonc.groupby([\"ZE2010\"]).sum()\n",
    "        \n",
    "        emp_timeseries_ZE2010.loc[i] = communal_fonc[\"Employment\"]\n",
    "        fonc_timeseries_ZE2010.loc[i] = communal_fonc[\"CFM\"]\n",
    "        \n",
    "emp_timeseries_ZE2010.to_json(\"Output/emp_timeseries_ZE2010.json\")\n",
    "fonc_timeseries_ZE2010.to_json(\"Output/fonc_timeseries_ZE2010.json\")"
   ]
  },
  {
   "cell_type": "code",
   "execution_count": 15,
   "metadata": {},
   "outputs": [],
   "source": [
    "### Defining timeseries to growthseries function\n",
    "\n",
    "def to_growth(timeseries):\n",
    "    \n",
    "    growthseries = timeseries\n",
    "    growthseries = growthseries.applymap(lambda x: np.log(x))\n",
    "    growthseries = growthseries.apply(lambda x: x.shift(-1) - x)\n",
    "    \n",
    "    growthseries = growthseries.dropna(axis=0,how=\"all\").dropna(axis=1,how=\"any\")\n",
    "    \n",
    "    return(growthseries)"
   ]
  },
  {
   "cell_type": "code",
   "execution_count": 16,
   "metadata": {},
   "outputs": [
    {
     "name": "stderr",
     "output_type": "stream",
     "text": [
      "/home/avel/anaconda3/lib/python3.7/site-packages/ipykernel_launcher.py:6: RuntimeWarning: divide by zero encountered in log\n",
      "  \n"
     ]
    }
   ],
   "source": [
    "### Building & exporting growthseries\n",
    "\n",
    "to_growth(dUC_timeseries_ZE1990).to_json(\"Output/dUC_growthseries_ZE1990.json\")\n",
    "to_growth(med_timeseries_ZE1990).to_json(\"Output/med_growthseries_ZE1990.json\")\n",
    "to_growth(intQ_timeseries_ZE1990).to_json(\"Output/intQ_growthseries_ZE1990.json\")\n",
    "to_growth(emp_timeseries_ZE1990).to_json(\"Output/emp_growthseries_ZE1990.json\")\n",
    "to_growth(fonc_timeseries_ZE1990).to_json(\"Output/fonc_growthseries_ZE1990.json\")\n",
    "\n",
    "to_growth(dUC_timeseries_ZE2010).to_json(\"Output/dUC_growthseries_ZE2010.json\")\n",
    "to_growth(med_timeseries_ZE2010).to_json(\"Output/med_growthseries_ZE2010.json\")\n",
    "to_growth(intQ_timeseries_ZE2010).to_json(\"Output/intQ_growthseries_ZE2010.json\")\n",
    "to_growth(emp_timeseries_ZE2010).to_json(\"Output/emp_growthseries_ZE2010.json\")\n",
    "to_growth(fonc_timeseries_ZE2010).to_json(\"Output/fonc_growthseries_ZE2010.json\")\n"
   ]
  },
  {
   "cell_type": "code",
   "execution_count": 17,
   "metadata": {},
   "outputs": [],
   "source": [
    "### Building and exporting financiarisation proxies\n",
    "\n",
    "with open(\"Raw data/Banque de France - % étranger de la dette publique.csv\") as foreigndebt_csv :\n",
    "    foreigndebt_timeseries = pd.read_csv(foreigndebt_csv, usecols=[0,1], header = 5, index_col = 0)\n",
    "    foreigndebt_timeseries.index = pd.MultiIndex.from_arrays([foreigndebt_timeseries.index.str[-4:], foreigndebt_timeseries.index.str[:2]])\n",
    "    foreigndebt_timeseries = foreigndebt_timeseries.groupby(level=0).mean()\n",
    "    \n",
    "foreigndebt_timeseries.to_json(\"Output/foreigndebt_timeseries.json\")\n",
    "\n",
    "\n",
    "with open(\"Raw data/Banque de France - % étranger des capitaux du CAC 40.csv\") as foreigncapitals_csv :\n",
    "    foreigncapitals_timeseries = pd.read_csv(foreigncapitals_csv, usecols = [0,1], header = 5, index_col=0)\n",
    "\n",
    "foreigncapitals_timeseries.to_json(\"Output/foreigncapitals_timeseries.json\")"
   ]
  },
  {
   "cell_type": "code",
   "execution_count": null,
   "metadata": {},
   "outputs": [],
   "source": []
  },
  {
   "cell_type": "code",
   "execution_count": null,
   "metadata": {},
   "outputs": [],
   "source": []
  },
  {
   "cell_type": "code",
   "execution_count": null,
   "metadata": {},
   "outputs": [],
   "source": []
  },
  {
   "cell_type": "code",
   "execution_count": null,
   "metadata": {},
   "outputs": [],
   "source": []
  },
  {
   "cell_type": "code",
   "execution_count": null,
   "metadata": {},
   "outputs": [],
   "source": []
  }
 ],
 "metadata": {
  "kernelspec": {
   "display_name": "Python 3",
   "language": "python",
   "name": "python3"
  },
  "language_info": {
   "codemirror_mode": {
    "name": "ipython",
    "version": 3
   },
   "file_extension": ".py",
   "mimetype": "text/x-python",
   "name": "python",
   "nbconvert_exporter": "python",
   "pygments_lexer": "ipython3",
   "version": "3.7.4"
  }
 },
 "nbformat": 4,
 "nbformat_minor": 4
}
