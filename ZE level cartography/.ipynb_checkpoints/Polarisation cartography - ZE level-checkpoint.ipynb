{
 "cells": [
  {
   "cell_type": "markdown",
   "metadata": {},
   "source": [
    "This code is developped in the context on my internship with Pablo JENSEN regarding economic polarisation in France during the post-1980 globalisation.\n",
    "\n",
    "The purpose of this notebook is to expose different metrics for measuring economic polarisation (mostly from INSEE data)"
   ]
  },
  {
   "cell_type": "code",
   "execution_count": 1,
   "metadata": {},
   "outputs": [],
   "source": [
    "### Importing libraries ###\n",
    "   \n",
    "import json\n",
    "import pandas as pd\n",
    "import geopandas as gpd\n",
    "import datetime\n",
    "\n",
    "\n",
    "import folium\n",
    "from folium.plugins import TimeSliderChoropleth\n",
    "import branca.colormap as cm\n"
   ]
  },
  {
   "cell_type": "code",
   "execution_count": 2,
   "metadata": {},
   "outputs": [],
   "source": [
    "### Defining path ###\n",
    "\n",
    "path = \"/home/avel/Documents/Travail/2019--20 : Stage Jensen/Data analysis/ZE level/\""
   ]
  },
  {
   "cell_type": "code",
   "execution_count": 3,
   "metadata": {},
   "outputs": [],
   "source": [
    "### Importing & formatting geographic data\n",
    "\n",
    "    ## Importing communal data\n",
    "communal_geo = gpd.read_file(path + \"Data/communes-version-simplifiee.geojson\")\n",
    "\n",
    "\n",
    "    ## Building ZE1990 geography\n",
    "with open(path + \"Data/ZE1990.csv\") as ZE1990_comp_csv :\n",
    "    ZE1990_comp = pd.read_csv(ZE1990_comp_csv, header=1, usecols=[0,4], names=[\"Code\",\"ZE1990\"])\n",
    "\n",
    "ZE1990_geo = communal_geo.merge(ZE1990_comp,right_on=\"Code\",left_on=\"code\")\n",
    "ZE1990_geo = ZE1990_geo[[\"ZE1990\",\"geometry\"]]\n",
    "ZE1990_geo = ZE1990_geo[ZE1990_geo.geometry.notnull()]\n",
    "ZE1990_geo = ZE1990_geo.dissolve(\"ZE1990\")\n",
    "ZE1990_geo = ZE1990_geo.reset_index()\n",
    "\n",
    "\n",
    "    ## Building ZE2010 geography\n",
    "with open(path + \"Data/ZE2010.csv\") as ZE2010_comp_csv :\n",
    "    ZE2010_comp = pd.read_csv(ZE2010_comp_csv, header=5, usecols=[0,2], names=[\"Code\",\"ZE2010\"])\n",
    "\n",
    "ZE2010_geo = communal_geo.merge(ZE2010_comp,right_on=\"Code\",left_on=\"code\")\n",
    "ZE2010_geo = ZE2010_geo[[\"ZE2010\",\"geometry\"]]\n",
    "ZE2010_geo = ZE2010_geo[ZE2010_geo.geometry.notnull()]\n",
    "ZE2010_geo = ZE2010_geo.dissolve(\"ZE2010\")\n",
    "ZE2010_geo = ZE2010_geo.reset_index()"
   ]
  },
  {
   "cell_type": "code",
   "execution_count": 4,
   "metadata": {},
   "outputs": [],
   "source": [
    "### Drawing ZE geography map\n",
    "\n",
    "m = folium.Map(\n",
    "    location=[47,2],\n",
    "    zoom_start=6,\n",
    "    tiles=\"Stamen Toner\"\n",
    "    )\n",
    "\n",
    "folium.GeoJson(ZE1990_geo,name = \"ZE 1990\").add_to(m)\n",
    "\n",
    "folium.GeoJson(ZE2010_geo, name = \"ZE 2010\").add_to(m)\n",
    "\n",
    "folium.LayerControl(collapsed=False).add_to(m)\n",
    "\n",
    "m.save(\"ZE geography.html\")"
   ]
  },
  {
   "cell_type": "code",
   "execution_count": 5,
   "metadata": {},
   "outputs": [
    {
     "name": "stdout",
     "output_type": "stream",
     "text": [
      "loading data...\n",
      "OK\n"
     ]
    }
   ],
   "source": [
    "### Importing times series from 2001 to 2008\n",
    " \n",
    "dates = range(2001,2009)\n",
    "\n",
    "med_series_ZE1990 = pd.DataFrame(columns = ZE1990_geo[\"ZE1990\"], index=dates)\n",
    "intQ_series_ZE1990 = pd.DataFrame(columns = ZE1990_geo[\"ZE1990\"], index=dates)\n",
    "\n",
    "\n",
    "print(\"loading data...\")\n",
    "for i in dates:\n",
    "    with open(path + \"Data/FILO\" + str(i) + \"_DEC_ZE1990.csv\") as ZE_revenue_csv :\n",
    "\n",
    "        ## load from 2001 to 2006        \n",
    "        if i in range(2001,2007):\n",
    "            ZE_data = pd.read_csv(ZE_revenue_csv, header = 6, usecols=[0,7,18], names = [\"ZE1990\",\"med\",\"intQ\"])\n",
    "\n",
    "        ## load from 2007 to 2008\n",
    "        elif i in range(2007,2009):\n",
    "            ZE_data = pd.read_csv(ZE_revenue_csv, header = 6, usecols=[0,5,16], names = [\"ZE1990\",\"med\",\"intQ\"])\n",
    "            \n",
    "        ZE_data = ZE_data.set_index(\"ZE1990\")\n",
    "\n",
    "        med_series_ZE1990.loc[i]=ZE_data[\"med\"]\n",
    "        intQ_series_ZE1990.loc[i]=ZE_data[\"intQ\"]\n",
    "        \n",
    "print(\"OK\")"
   ]
  },
  {
   "cell_type": "code",
   "execution_count": 6,
   "metadata": {},
   "outputs": [
    {
     "name": "stdout",
     "output_type": "stream",
     "text": [
      "loading data...\n",
      "OK\n"
     ]
    }
   ],
   "source": [
    "### Importing times series from 2009 to 2016\n",
    " \n",
    "dates = range(2009,2017)\n",
    "\n",
    "med_series_ZE2010 = pd.DataFrame(columns = ZE2010_geo[\"ZE2010\"], index=dates)\n",
    "intQ_series_ZE2010 = pd.DataFrame(columns = ZE2010_geo[\"ZE2010\"], index=dates)\n",
    "\n",
    "\n",
    "print(\"loading data...\")\n",
    "for i in dates:\n",
    "    with open(path + \"Data/FILO\" + str(i) + \"_DEC_ZE2010.csv\") as ZE_revenue_csv :\n",
    "        \n",
    "        ## load from 2009 to 2011        \n",
    "        if i in range(2009,2012):\n",
    "            ZE_data = pd.read_csv(ZE_revenue_csv, header = 6, usecols=[0,5,16], names = [\"ZE2010\",\"med\",\"intQ\"])\n",
    "        \n",
    "        ## load from 2012 to 2016\n",
    "        elif i in range(2012,2017):\n",
    "            ZE_data = pd.read_csv(ZE_revenue_csv, header = 5, usecols=[0,7,18], names = [\"ZE2010\",\"med\",\"intQ\"])\n",
    "\n",
    "        ZE_data = ZE_data.set_index(\"ZE2010\")\n",
    "\n",
    "        med_series_ZE2010.loc[i]=ZE_data[\"med\"]\n",
    "        intQ_series_ZE2010.loc[i]=ZE_data[\"intQ\"]\n",
    "        \n",
    "print(\"OK\")"
   ]
  },
  {
   "cell_type": "code",
   "execution_count": 7,
   "metadata": {},
   "outputs": [],
   "source": [
    "def styledict(df, datatype) :\n",
    "    \n",
    "    valid_datatype = {\"med\",\"intQ\"}\n",
    "    if datatype not in valid_datatype:\n",
    "        raise ValueError(\"datatype must be one of %r.\" % valid_datatype)\n",
    "    \n",
    "    styledict = {}\n",
    "    df = df.to_dict()\n",
    "    min_color=1000000\n",
    "    max_color=0\n",
    "    \n",
    "    for ZE, timeseries in df.items():\n",
    "        min_color = min(min_color, min(timeseries.values()))\n",
    "        max_color = max(max_color, max(timeseries.values()))\n",
    "    \n",
    "    if datatype == \"intQ\":\n",
    "        cmap = cm.linear.PuRd_09.scale(min_color, max_color)\n",
    "    elif datatype == \"med\":\n",
    "        cmap = cm.linear.YlGn_09.scale(min_color, max_color)\n",
    "\n",
    "    for ZE, timeseries in df.items():\n",
    "        styledict[ZE] = {}\n",
    "        for year in timeseries.keys() :\n",
    "            d = {}\n",
    "            d[\"color\"] = cmap(df[ZE][year])\n",
    "            d[\"opacity\"] = 0.8\n",
    "            \n",
    "            time = datetime.datetime(year,1,1)\n",
    "            time = int(time.strftime('%s'))\n",
    "            \n",
    "            styledict[ZE][time] = d\n",
    "    return(styledict)"
   ]
  },
  {
   "cell_type": "code",
   "execution_count": null,
   "metadata": {},
   "outputs": [],
   "source": []
  },
  {
   "cell_type": "code",
   "execution_count": 8,
   "metadata": {},
   "outputs": [],
   "source": [
    "### Drawing median revenue Timeslider choropleth for ZE1990 data\n",
    "\n",
    "m = folium.Map(\n",
    "    location=[47,2],\n",
    "    zoom_start=6,\n",
    "    tiles=\"Stamen Toner\"\n",
    "    )\n",
    " \n",
    "TimeSliderChoropleth(\n",
    "    ZE1990_geo.set_index(\"ZE1990\"),\n",
    "    styledict=styledict(med_series_ZE1990,\"med\"),\n",
    "    name=\"Revenu médian\"\n",
    "\n",
    ").add_to(m)\n",
    "\n",
    "folium.LayerControl().add_to(m)\n",
    "\n",
    "\n",
    "m.save(\"Revenu médian - ZE - TimeSlider 2001 to 2009.html\")"
   ]
  },
  {
   "cell_type": "code",
   "execution_count": 9,
   "metadata": {},
   "outputs": [],
   "source": [
    "### Drawing median revenue Timeslider choropleth for ZE2010 data\n",
    "\n",
    "m = folium.Map(\n",
    "    location=[47,2],\n",
    "    zoom_start=6,\n",
    "    tiles=\"Stamen Toner\"\n",
    "    )\n",
    " \n",
    "TimeSliderChoropleth(\n",
    "    ZE2010_geo.set_index(\"ZE2010\"),\n",
    "    styledict=styledict(med_series_ZE2010,\"med\"),\n",
    "    name=\"Revenu médian - choropleth\"\n",
    "\n",
    "\n",
    ").add_to(m)\n",
    "\n",
    "folium.LayerControl().add_to(m)\n",
    "\n",
    "\n",
    "m.save(\"Revenu médian - ZE - TimeSlider 2009 to 2016.html\")"
   ]
  },
  {
   "cell_type": "code",
   "execution_count": 17,
   "metadata": {},
   "outputs": [],
   "source": [
    "### Drawing median revenue choropleth for 2016\n",
    "\n",
    "\n",
    "m = folium.Map(\n",
    "    location=[47,2],\n",
    "    zoom_start=6,\n",
    "    tiles=\"Stamen Toner\"\n",
    "    )\n",
    "\n",
    "df = pd.DataFrame()\n",
    "df[\"med_2016\"]=med_series_ZE2010.loc[2016]\n",
    "df = df.reset_index()\n",
    " \n",
    "folium.Choropleth(\n",
    "    geo_data = ZE2010_geo,\n",
    "    data = df,\n",
    "    key_on = \"feature.properties.ZE2010\",\n",
    "    columns = [\"ZE2010\",\"med_2016\"],\n",
    "    fill_color ='YlGn',\n",
    "    legend_name = 'Revenu médian (Euros)',\n",
    "    name = \"Revenu médian - choropleth\"\n",
    ").add_to(m)\n",
    "\n",
    "folium.LayerControl().add_to(m)\n",
    "\n",
    "\n",
    "m.save(\"Revenu médian - ZE - 2016.html\")"
   ]
  },
  {
   "cell_type": "code",
   "execution_count": 11,
   "metadata": {},
   "outputs": [
    {
     "name": "stdout",
     "output_type": "stream",
     "text": [
      "ZE1990 4111\n",
      "2001    NaN\n",
      "2002    NaN\n",
      "2003    NaN\n",
      "2004    NaN\n",
      "2005    NaN\n",
      "2006    NaN\n",
      "2007      7\n",
      "2008    5.6\n"
     ]
    }
   ],
   "source": [
    "print(intQ_series_ZE1990.loc[:,intQ_series_ZE1990.isnull().any()])\n",
    "\n",
    "## Il manque le rapport interdécile pour la ZE1990 4111 !\n",
    "\n",
    "intQ_series_ZE1990 = intQ_series_ZE1990.dropna(axis=1)"
   ]
  },
  {
   "cell_type": "code",
   "execution_count": 19,
   "metadata": {},
   "outputs": [],
   "source": [
    "### Drawing intedecile quotient Timeslider choropleth for ZE1990 data\n",
    "\n",
    "\n",
    "m = folium.Map(\n",
    "    location=[47,2],\n",
    "    zoom_start=6,\n",
    "    tiles=\"Stamen Toner\"\n",
    "    )\n",
    "\n",
    " \n",
    "TimeSliderChoropleth(\n",
    "    ZE1990_geo.set_index(\"ZE1990\"),\n",
    "    styledict=styledict(intQ_series_ZE1990,\"intQ\"),\n",
    "    name=\"Quotient interdécile - choropleth\"\n",
    ").add_to(m)\n",
    "\n",
    "folium.LayerControl().add_to(m)\n",
    "\n",
    "\n",
    "m.save(\"Quotient interdécile - ZE - TimeSlider 2001 to 2009.html\")"
   ]
  },
  {
   "cell_type": "code",
   "execution_count": 20,
   "metadata": {},
   "outputs": [],
   "source": [
    "### Drawing intedecile quotient Timeslider choropleth for ZE2010 data\n",
    "\n",
    "\n",
    "m = folium.Map(\n",
    "    location=[47,2],\n",
    "    zoom_start=6,\n",
    "    tiles=\"Stamen Toner\"\n",
    "    )\n",
    " \n",
    "TimeSliderChoropleth(\n",
    "    ZE2010_geo.set_index(\"ZE2010\"),\n",
    "    styledict=styledict(intQ_series_ZE2010,\"intQ\"),\n",
    "    name=\"Quotient interdécile - choropleth\"\n",
    ").add_to(m)\n",
    "\n",
    "folium.LayerControl().add_to(m)\n",
    "\n",
    "\n",
    "m.save(\"Quotient interdécile - ZE - TimeSlider 2009 to 2016.html\")"
   ]
  },
  {
   "cell_type": "code",
   "execution_count": 18,
   "metadata": {},
   "outputs": [],
   "source": [
    "### Drawing interdecile quotient choropleth for 2016\n",
    "\n",
    "\n",
    "m = folium.Map(\n",
    "    location=[47,2],\n",
    "    zoom_start=6,\n",
    "    tiles=\"Stamen Toner\"\n",
    "    )\n",
    "\n",
    "df = pd.DataFrame()\n",
    "df[\"intQ_2016\"]=intQ_series_ZE2010.loc[2016]\n",
    "df = df.reset_index()\n",
    " \n",
    "folium.Choropleth(\n",
    "    geo_data = ZE2010_geo,\n",
    "    data = df,\n",
    "    key_on = \"feature.properties.ZE2010\",\n",
    "    columns = [\"ZE2010\",\"intQ_2016\"],\n",
    "    fill_color='PuRd',\n",
    "    legend_name='Quotient interdécile',\n",
    "    name=\"Quotient interdécile - choropleth\"\n",
    ").add_to(m)\n",
    "\n",
    "folium.LayerControl().add_to(m)\n",
    "\n",
    "\n",
    "m.save(\"Quotient interdécile - ZE - 2016.html\")"
   ]
  },
  {
   "cell_type": "code",
   "execution_count": null,
   "metadata": {},
   "outputs": [],
   "source": []
  }
 ],
 "metadata": {
  "kernelspec": {
   "display_name": "Python 3",
   "language": "python",
   "name": "python3"
  },
  "language_info": {
   "codemirror_mode": {
    "name": "ipython",
    "version": 3
   },
   "file_extension": ".py",
   "mimetype": "text/x-python",
   "name": "python",
   "nbconvert_exporter": "python",
   "pygments_lexer": "ipython3",
   "version": "3.7.4"
  }
 },
 "nbformat": 4,
 "nbformat_minor": 4
}
